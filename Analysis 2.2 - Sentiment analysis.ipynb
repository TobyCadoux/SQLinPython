{
 "cells": [
  {
   "cell_type": "markdown",
   "metadata": {
    "toc": true
   },
   "source": [
    "<h1>Table of Contents<span class=\"tocSkip\"></span></h1>\n",
    "<div class=\"toc\"><ul class=\"toc-item\"><li><span><a href=\"#Imports-and-definitions\" data-toc-modified-id=\"Imports-and-definitions-1\"><span class=\"toc-item-num\">1&nbsp;&nbsp;</span>Imports and definitions</a></span></li><li><span><a href=\"#Load-tables\" data-toc-modified-id=\"Load-tables-2\"><span class=\"toc-item-num\">2&nbsp;&nbsp;</span>Load tables</a></span></li><li><span><a href=\"#Sentiment-analysis\" data-toc-modified-id=\"Sentiment-analysis-3\"><span class=\"toc-item-num\">3&nbsp;&nbsp;</span>Sentiment analysis</a></span><ul class=\"toc-item\"><li><span><a href=\"#Calculate-sentiments-for-all-tweets\" data-toc-modified-id=\"Calculate-sentiments-for-all-tweets-3.1\"><span class=\"toc-item-num\">3.1&nbsp;&nbsp;</span>Calculate sentiments for all tweets</a></span></li><li><span><a href=\"#Average-sentiment-of-tweets-by-user\" data-toc-modified-id=\"Average-sentiment-of-tweets-by-user-3.2\"><span class=\"toc-item-num\">3.2&nbsp;&nbsp;</span>Average sentiment of tweets by user</a></span></li><li><span><a href=\"#Sentiments-over-time-for-all-tweets\" data-toc-modified-id=\"Sentiments-over-time-for-all-tweets-3.3\"><span class=\"toc-item-num\">3.3&nbsp;&nbsp;</span>Sentiments over time for all tweets</a></span></li></ul></li></ul></div>"
   ]
  },
  {
   "cell_type": "markdown",
   "metadata": {},
   "source": [
    "# Analysis 2 - Sentiment"
   ]
  },
  {
   "cell_type": "markdown",
   "metadata": {},
   "source": [
    "## Imports and definitions"
   ]
  },
  {
   "cell_type": "code",
   "execution_count": 1,
   "metadata": {},
   "outputs": [],
   "source": [
    "%load_ext memory_profiler"
   ]
  },
  {
   "cell_type": "code",
   "execution_count": 2,
   "metadata": {},
   "outputs": [],
   "source": [
    "import warnings\n",
    "import datetime as dt\n",
    "import re\n",
    "from collections import Counter\n",
    "import numpy as np\n",
    "import statsmodels.api as sm\n",
    "import pandas as pd\n",
    "pd.set_option('max_colwidth', None)\n",
    "pd.set_option('display.float_format', lambda x: '%.2f' % x)\n",
    "import matplotlib.pyplot as plt\n",
    "import seaborn as sb\n",
    "plt.style.use('fivethirtyeight') #Generally nice\n",
    "from pandasql import sqldf\n",
    "sql = lambda x: sqldf(x, globals())\n",
    "from textblob import TextBlob\n",
    "path = 'output_data/'"
   ]
  },
  {
   "cell_type": "markdown",
   "metadata": {},
   "source": [
    "## Load tables"
   ]
  },
  {
   "cell_type": "code",
   "execution_count": 3,
   "metadata": {},
   "outputs": [],
   "source": [
    "tweet = pd.read_parquet(path+'cleantweets.parquet')"
   ]
  },
  {
   "cell_type": "code",
   "execution_count": 4,
   "metadata": {},
   "outputs": [],
   "source": [
    "user = pd.read_csv(path+'user.csv')\n",
    "#hashtag = pd.read_csv(path+'hashtag.csv')\n",
    "#mention = pd.read_csv(path+'mention.csv')\n",
    "#tweet_hashtag = pd.read_csv(path+'tweet_hashtag.csv')\n",
    "#tweet_mention = pd.read_csv(path+'tweet_mention.csv')"
   ]
  },
  {
   "cell_type": "markdown",
   "metadata": {},
   "source": [
    "## Sentiment analysis"
   ]
  },
  {
   "cell_type": "markdown",
   "metadata": {},
   "source": [
    "### Calculate sentiments for all tweets"
   ]
  },
  {
   "cell_type": "code",
   "execution_count": 5,
   "metadata": {},
   "outputs": [
    {
     "name": "stdout",
     "output_type": "stream",
     "text": [
      "CPU times: user 2min 38s, sys: 149 ms, total: 2min 38s\n",
      "Wall time: 2min 39s\n"
     ]
    }
   ],
   "source": [
    "%%time\n",
    "# Sentiments come from sentences so drop the word list\n",
    "unwanted=['words']\n",
    "columns = [column for column in tweet.columns if column not in unwanted]\n",
    "tweet = tweet[columns]\n",
    "#tweet.set_index('id', inplace=True)\n",
    "tweet['sentiment']=tweet['text'].apply(lambda x: TextBlob(x).sentiment[0])"
   ]
  },
  {
   "cell_type": "code",
   "execution_count": 6,
   "metadata": {},
   "outputs": [
    {
     "data": {
      "text/html": [
       "<div>\n",
       "<style scoped>\n",
       "    .dataframe tbody tr th:only-of-type {\n",
       "        vertical-align: middle;\n",
       "    }\n",
       "\n",
       "    .dataframe tbody tr th {\n",
       "        vertical-align: top;\n",
       "    }\n",
       "\n",
       "    .dataframe thead th {\n",
       "        text-align: right;\n",
       "    }\n",
       "</style>\n",
       "<table border=\"1\" class=\"dataframe\">\n",
       "  <thead>\n",
       "    <tr style=\"text-align: right;\">\n",
       "      <th></th>\n",
       "      <th>created_at</th>\n",
       "      <th>description</th>\n",
       "      <th>followers_count</th>\n",
       "      <th>friends_count</th>\n",
       "      <th>name</th>\n",
       "      <th>screen_name</th>\n",
       "      <th>total_tweets</th>\n",
       "    </tr>\n",
       "  </thead>\n",
       "  <tbody>\n",
       "    <tr>\n",
       "      <th>0</th>\n",
       "      <td>2014-11-30</td>\n",
       "      <td>Official Twitter page of Alaska Governor Bill Walker; honored to serve AK w/ @LtGovMallott. RTs ≠ endorsements.Tweets signed \"-BW\" come directly from Governor.</td>\n",
       "      <td>5870</td>\n",
       "      <td>550</td>\n",
       "      <td>Governor Bill Walker</td>\n",
       "      <td>AkGovBillWalker</td>\n",
       "      <td>1642</td>\n",
       "    </tr>\n",
       "    <tr>\n",
       "      <th>1</th>\n",
       "      <td>2009-04-20</td>\n",
       "      <td>U.S. Senator from Minnesota. Follows, Retweets, Replies ≠ endorsement</td>\n",
       "      <td>170717</td>\n",
       "      <td>91751</td>\n",
       "      <td>Amy Klobuchar</td>\n",
       "      <td>amyklobuchar</td>\n",
       "      <td>5567</td>\n",
       "    </tr>\n",
       "    <tr>\n",
       "      <th>2</th>\n",
       "      <td>2013-04-24</td>\n",
       "      <td>Congressman for Maryland's 4th Congressional District, former Army Aviator, father and husband</td>\n",
       "      <td>6067</td>\n",
       "      <td>369</td>\n",
       "      <td>Anthony G. Brown</td>\n",
       "      <td>AnthonyBrownMD4</td>\n",
       "      <td>1878</td>\n",
       "    </tr>\n",
       "    <tr>\n",
       "      <th>3</th>\n",
       "      <td>2011-03-21</td>\n",
       "      <td>Husband of 43 yrs, Dad of 4, Papaw of 6. Lifelong Arkansan. Governor of Arkansas. Former Congressman, Admin. of DEA, Under Sec. of Homeland Security.</td>\n",
       "      <td>25747</td>\n",
       "      <td>598</td>\n",
       "      <td>Gov. Asa Hutchinson</td>\n",
       "      <td>AsaHutchinson</td>\n",
       "      <td>3778</td>\n",
       "    </tr>\n",
       "    <tr>\n",
       "      <th>4</th>\n",
       "      <td>2011-01-06</td>\n",
       "      <td>I am proud to represent the 8th Congressional District of Georgia.</td>\n",
       "      <td>13048</td>\n",
       "      <td>313</td>\n",
       "      <td>Rep. Austin Scott</td>\n",
       "      <td>AustinScottGA08</td>\n",
       "      <td>2022</td>\n",
       "    </tr>\n",
       "  </tbody>\n",
       "</table>\n",
       "</div>"
      ],
      "text/plain": [
       "   created_at  \\\n",
       "0  2014-11-30   \n",
       "1  2009-04-20   \n",
       "2  2013-04-24   \n",
       "3  2011-03-21   \n",
       "4  2011-01-06   \n",
       "\n",
       "                                                                                                                                                       description  \\\n",
       "0  Official Twitter page of Alaska Governor Bill Walker; honored to serve AK w/ @LtGovMallott. RTs ≠ endorsements.Tweets signed \"-BW\" come directly from Governor.   \n",
       "1                                                                                            U.S. Senator from Minnesota. Follows, Retweets, Replies ≠ endorsement   \n",
       "2                                                                   Congressman for Maryland's 4th Congressional District, former Army Aviator, father and husband   \n",
       "3            Husband of 43 yrs, Dad of 4, Papaw of 6. Lifelong Arkansan. Governor of Arkansas. Former Congressman, Admin. of DEA, Under Sec. of Homeland Security.   \n",
       "4                                                                                               I am proud to represent the 8th Congressional District of Georgia.   \n",
       "\n",
       "   followers_count  friends_count                  name      screen_name  \\\n",
       "0             5870            550  Governor Bill Walker  AkGovBillWalker   \n",
       "1           170717          91751         Amy Klobuchar     amyklobuchar   \n",
       "2             6067            369      Anthony G. Brown  AnthonyBrownMD4   \n",
       "3            25747            598   Gov. Asa Hutchinson    AsaHutchinson   \n",
       "4            13048            313     Rep. Austin Scott  AustinScottGA08   \n",
       "\n",
       "   total_tweets  \n",
       "0          1642  \n",
       "1          5567  \n",
       "2          1878  \n",
       "3          3778  \n",
       "4          2022  "
      ]
     },
     "execution_count": 6,
     "metadata": {},
     "output_type": "execute_result"
    }
   ],
   "source": [
    "user.head()"
   ]
  },
  {
   "cell_type": "markdown",
   "metadata": {},
   "source": [
    "### Average sentiment of tweets by user"
   ]
  },
  {
   "cell_type": "code",
   "execution_count": 7,
   "metadata": {},
   "outputs": [
    {
     "name": "stdout",
     "output_type": "stream",
     "text": [
      "CPU times: user 10.1 s, sys: 487 ms, total: 10.6 s\n",
      "Wall time: 10.6 s\n"
     ]
    },
    {
     "data": {
      "text/html": [
       "<div>\n",
       "<style scoped>\n",
       "    .dataframe tbody tr th:only-of-type {\n",
       "        vertical-align: middle;\n",
       "    }\n",
       "\n",
       "    .dataframe tbody tr th {\n",
       "        vertical-align: top;\n",
       "    }\n",
       "\n",
       "    .dataframe thead th {\n",
       "        text-align: right;\n",
       "    }\n",
       "</style>\n",
       "<table border=\"1\" class=\"dataframe\">\n",
       "  <thead>\n",
       "    <tr style=\"text-align: right;\">\n",
       "      <th></th>\n",
       "      <th>created_at</th>\n",
       "      <th>description</th>\n",
       "      <th>followers_count</th>\n",
       "      <th>friends_count</th>\n",
       "      <th>name</th>\n",
       "      <th>screen_name</th>\n",
       "      <th>total_tweets</th>\n",
       "      <th>average_sentiment</th>\n",
       "    </tr>\n",
       "  </thead>\n",
       "  <tbody>\n",
       "    <tr>\n",
       "      <th>0</th>\n",
       "      <td>2014-11-30</td>\n",
       "      <td>Official Twitter page of Alaska Governor Bill Walker; honored to serve AK w/ @LtGovMallott. RTs ≠ endorsements.Tweets signed \"-BW\" come directly from Governor.</td>\n",
       "      <td>5870</td>\n",
       "      <td>550</td>\n",
       "      <td>Governor Bill Walker</td>\n",
       "      <td>AkGovBillWalker</td>\n",
       "      <td>1642</td>\n",
       "      <td>0.18</td>\n",
       "    </tr>\n",
       "    <tr>\n",
       "      <th>1</th>\n",
       "      <td>2009-04-20</td>\n",
       "      <td>U.S. Senator from Minnesota. Follows, Retweets, Replies ≠ endorsement</td>\n",
       "      <td>170717</td>\n",
       "      <td>91751</td>\n",
       "      <td>Amy Klobuchar</td>\n",
       "      <td>amyklobuchar</td>\n",
       "      <td>5567</td>\n",
       "      <td>0.24</td>\n",
       "    </tr>\n",
       "  </tbody>\n",
       "</table>\n",
       "</div>"
      ],
      "text/plain": [
       "   created_at  \\\n",
       "0  2014-11-30   \n",
       "1  2009-04-20   \n",
       "\n",
       "                                                                                                                                                       description  \\\n",
       "0  Official Twitter page of Alaska Governor Bill Walker; honored to serve AK w/ @LtGovMallott. RTs ≠ endorsements.Tweets signed \"-BW\" come directly from Governor.   \n",
       "1                                                                                            U.S. Senator from Minnesota. Follows, Retweets, Replies ≠ endorsement   \n",
       "\n",
       "   followers_count  friends_count                  name      screen_name  \\\n",
       "0             5870            550  Governor Bill Walker  AkGovBillWalker   \n",
       "1           170717          91751         Amy Klobuchar     amyklobuchar   \n",
       "\n",
       "   total_tweets  average_sentiment  \n",
       "0          1642               0.18  \n",
       "1          5567               0.24  "
      ]
     },
     "execution_count": 7,
     "metadata": {},
     "output_type": "execute_result"
    }
   ],
   "source": [
    "%%time\n",
    "query = f'''\n",
    "SELECT\n",
    "    u.created_at,\n",
    "    u.description,\n",
    "    u.followers_count,\n",
    "    u.friends_count,\n",
    "    u.name,\n",
    "    u.screen_name,\n",
    "    u.total_tweets,\n",
    "    avg_sentiment.average_sentiment\n",
    "FROM user AS u\n",
    "INNER JOIN\n",
    "    (SELECT\n",
    "        screen_name,\n",
    "        AVG(sentiment) AS average_sentiment\n",
    "    FROM\n",
    "        tweet\n",
    "    GROUP BY\n",
    "        screen_name\n",
    "    ORDER BY\n",
    "        AVG(sentiment)\n",
    "    ) AS avg_sentiment\n",
    "ON u.screen_name = avg_sentiment.screen_name\n",
    "'''\n",
    "user_sent = sql(query)\n",
    "user_sent.head(2)"
   ]
  },
  {
   "cell_type": "code",
   "execution_count": 8,
   "metadata": {},
   "outputs": [
    {
     "data": {
      "text/html": [
       "<table class=\"simpletable\">\n",
       "<caption>OLS Regression Results</caption>\n",
       "<tr>\n",
       "  <th>Dep. Variable:</th>            <td>y</td>        <th>  R-squared:         </th> <td>   0.002</td> \n",
       "</tr>\n",
       "<tr>\n",
       "  <th>Model:</th>                   <td>OLS</td>       <th>  Adj. R-squared:    </th> <td>  -0.000</td> \n",
       "</tr>\n",
       "<tr>\n",
       "  <th>Method:</th>             <td>Least Squares</td>  <th>  F-statistic:       </th> <td>  0.8677</td> \n",
       "</tr>\n",
       "<tr>\n",
       "  <th>Date:</th>             <td>Thu, 15 Oct 2020</td> <th>  Prob (F-statistic):</th>  <td> 0.352</td>  \n",
       "</tr>\n",
       "<tr>\n",
       "  <th>Time:</th>                 <td>16:02:02</td>     <th>  Log-Likelihood:    </th> <td> -8558.6</td> \n",
       "</tr>\n",
       "<tr>\n",
       "  <th>No. Observations:</th>      <td>   545</td>      <th>  AIC:               </th> <td>1.712e+04</td>\n",
       "</tr>\n",
       "<tr>\n",
       "  <th>Df Residuals:</th>          <td>   543</td>      <th>  BIC:               </th> <td>1.713e+04</td>\n",
       "</tr>\n",
       "<tr>\n",
       "  <th>Df Model:</th>              <td>     1</td>      <th>                     </th>     <td> </td>    \n",
       "</tr>\n",
       "<tr>\n",
       "  <th>Covariance Type:</th>      <td>nonrobust</td>    <th>                     </th>     <td> </td>    \n",
       "</tr>\n",
       "</table>\n",
       "<table class=\"simpletable\">\n",
       "<tr>\n",
       "    <td></td>       <th>coef</th>     <th>std err</th>      <th>t</th>      <th>P>|t|</th>  <th>[0.025</th>    <th>0.975]</th>  \n",
       "</tr>\n",
       "<tr>\n",
       "  <th>const</th> <td> 1.435e+05</td> <td> 7.22e+04</td> <td>    1.989</td> <td> 0.047</td> <td> 1808.461</td> <td> 2.85e+05</td>\n",
       "</tr>\n",
       "<tr>\n",
       "  <th>x1</th>    <td>   10.1649</td> <td>   10.912</td> <td>    0.932</td> <td> 0.352</td> <td>  -11.270</td> <td>   31.600</td>\n",
       "</tr>\n",
       "</table>\n",
       "<table class=\"simpletable\">\n",
       "<tr>\n",
       "  <th>Omnibus:</th>       <td>1182.262</td> <th>  Durbin-Watson:     </th>  <td>   2.015</td>  \n",
       "</tr>\n",
       "<tr>\n",
       "  <th>Prob(Omnibus):</th>  <td> 0.000</td>  <th>  Jarque-Bera (JB):  </th> <td>2182683.987</td>\n",
       "</tr>\n",
       "<tr>\n",
       "  <th>Skew:</th>           <td>16.990</td>  <th>  Prob(JB):          </th>  <td>    0.00</td>  \n",
       "</tr>\n",
       "<tr>\n",
       "  <th>Kurtosis:</th>       <td>311.162</td> <th>  Cond. No.          </th>  <td>6.95e+03</td>  \n",
       "</tr>\n",
       "</table><br/><br/>Notes:<br/>[1] Standard Errors assume that the covariance matrix of the errors is correctly specified.<br/>[2] The condition number is large, 6.95e+03. This might indicate that there are<br/>strong multicollinearity or other numerical problems."
      ],
      "text/plain": [
       "<class 'statsmodels.iolib.summary.Summary'>\n",
       "\"\"\"\n",
       "                            OLS Regression Results                            \n",
       "==============================================================================\n",
       "Dep. Variable:                      y   R-squared:                       0.002\n",
       "Model:                            OLS   Adj. R-squared:                 -0.000\n",
       "Method:                 Least Squares   F-statistic:                    0.8677\n",
       "Date:                Thu, 15 Oct 2020   Prob (F-statistic):              0.352\n",
       "Time:                        16:02:02   Log-Likelihood:                -8558.6\n",
       "No. Observations:                 545   AIC:                         1.712e+04\n",
       "Df Residuals:                     543   BIC:                         1.713e+04\n",
       "Df Model:                           1                                         \n",
       "Covariance Type:            nonrobust                                         \n",
       "==============================================================================\n",
       "                 coef    std err          t      P>|t|      [0.025      0.975]\n",
       "------------------------------------------------------------------------------\n",
       "const       1.435e+05   7.22e+04      1.989      0.047    1808.461    2.85e+05\n",
       "x1            10.1649     10.912      0.932      0.352     -11.270      31.600\n",
       "==============================================================================\n",
       "Omnibus:                     1182.262   Durbin-Watson:                   2.015\n",
       "Prob(Omnibus):                  0.000   Jarque-Bera (JB):          2182683.987\n",
       "Skew:                          16.990   Prob(JB):                         0.00\n",
       "Kurtosis:                     311.162   Cond. No.                     6.95e+03\n",
       "==============================================================================\n",
       "\n",
       "Notes:\n",
       "[1] Standard Errors assume that the covariance matrix of the errors is correctly specified.\n",
       "[2] The condition number is large, 6.95e+03. This might indicate that there are\n",
       "strong multicollinearity or other numerical problems.\n",
       "\"\"\""
      ]
     },
     "execution_count": 8,
     "metadata": {},
     "output_type": "execute_result"
    }
   ],
   "source": [
    "y = user_sent.followers_count.values\n",
    "x = user_sent.friends_count.values\n",
    "x = sm.add_constant(x)\n",
    "model = sm.OLS(y, x, hasconst=True).fit()\n",
    "model.summary()"
   ]
  },
  {
   "cell_type": "markdown",
   "metadata": {},
   "source": [
    "There is no correlation between any of friends_count, followers_count, total_tweets and avg_sentiment."
   ]
  },
  {
   "cell_type": "code",
   "execution_count": 9,
   "metadata": {},
   "outputs": [
    {
     "data": {
      "text/html": [
       "<div>\n",
       "<style scoped>\n",
       "    .dataframe tbody tr th:only-of-type {\n",
       "        vertical-align: middle;\n",
       "    }\n",
       "\n",
       "    .dataframe tbody tr th {\n",
       "        vertical-align: top;\n",
       "    }\n",
       "\n",
       "    .dataframe thead th {\n",
       "        text-align: right;\n",
       "    }\n",
       "</style>\n",
       "<table border=\"1\" class=\"dataframe\">\n",
       "  <thead>\n",
       "    <tr style=\"text-align: right;\">\n",
       "      <th></th>\n",
       "      <th>created_at</th>\n",
       "      <th>retweet_count</th>\n",
       "      <th>screen_name</th>\n",
       "      <th>text</th>\n",
       "      <th>wordtext</th>\n",
       "      <th>sentiment</th>\n",
       "    </tr>\n",
       "    <tr>\n",
       "      <th>id</th>\n",
       "      <th></th>\n",
       "      <th></th>\n",
       "      <th></th>\n",
       "      <th></th>\n",
       "      <th></th>\n",
       "      <th></th>\n",
       "    </tr>\n",
       "  </thead>\n",
       "  <tbody>\n",
       "    <tr>\n",
       "      <th>877418565</th>\n",
       "      <td>2008-08-04 17:28:51</td>\n",
       "      <td>0</td>\n",
       "      <td>JohnBoozman</td>\n",
       "      <td>conference call about weekend trip iraq visit arkansas troops</td>\n",
       "      <td>conference call weekend trip iraq visit arkansas troops</td>\n",
       "      <td>0.00</td>\n",
       "    </tr>\n",
       "    <tr>\n",
       "      <th>879695803</th>\n",
       "      <td>2008-08-06 20:35:36</td>\n",
       "      <td>0</td>\n",
       "      <td>JohnBoozman</td>\n",
       "      <td>being interviewed by karn his arkansas world trade center trip</td>\n",
       "      <td>interviewed karn arkansas world trade center trip</td>\n",
       "      <td>-0.10</td>\n",
       "    </tr>\n",
       "  </tbody>\n",
       "</table>\n",
       "</div>"
      ],
      "text/plain": [
       "                    created_at  retweet_count  screen_name  \\\n",
       "id                                                           \n",
       "877418565  2008-08-04 17:28:51              0  JohnBoozman   \n",
       "879695803  2008-08-06 20:35:36              0  JohnBoozman   \n",
       "\n",
       "                                                                     text  \\\n",
       "id                                                                          \n",
       "877418565   conference call about weekend trip iraq visit arkansas troops   \n",
       "879695803  being interviewed by karn his arkansas world trade center trip   \n",
       "\n",
       "                                                          wordtext  sentiment  \n",
       "id                                                                             \n",
       "877418565  conference call weekend trip iraq visit arkansas troops       0.00  \n",
       "879695803        interviewed karn arkansas world trade center trip      -0.10  "
      ]
     },
     "execution_count": 9,
     "metadata": {},
     "output_type": "execute_result"
    }
   ],
   "source": [
    "tweet.head(2)"
   ]
  },
  {
   "cell_type": "markdown",
   "metadata": {},
   "source": [
    "### Sentiments over time for all tweets"
   ]
  },
  {
   "cell_type": "code",
   "execution_count": 10,
   "metadata": {},
   "outputs": [],
   "source": [
    "def get_monthly_sentiment(start_year=2016, end_year=2016):\n",
    "    query = f'''\n",
    "        SELECT SUBSTR(\n",
    "                   DATE(t.created_at,'start of month'),\n",
    "                   1,7) AS month,\n",
    "                AVG(t.sentiment) AS avg_sentiment\n",
    "        FROM tweet AS t\n",
    "        WHERE CAST(STRFTIME('%Y',t.created_at) AS INT) >= {start_year}\n",
    "                AND\n",
    "              CAST(STRFTIME('%Y',t.created_at) AS INT) <= {end_year}\n",
    "        GROUP BY month\n",
    "        ORDER BY month\n",
    "        ;'''\n",
    "    return sql(query)"
   ]
  },
  {
   "cell_type": "code",
   "execution_count": 11,
   "metadata": {},
   "outputs": [],
   "source": [
    "df = get_monthly_sentiment(2008, 2017)"
   ]
  },
  {
   "cell_type": "markdown",
   "metadata": {},
   "source": [
    "I could use a window function in SQL but..."
   ]
  },
  {
   "cell_type": "code",
   "execution_count": 12,
   "metadata": {},
   "outputs": [],
   "source": [
    "df['ma'] = df.rolling(window=6)['avg_sentiment'].mean()"
   ]
  },
  {
   "cell_type": "code",
   "execution_count": 13,
   "metadata": {},
   "outputs": [
    {
     "data": {
      "image/png": "[encoded data removed]",
      "text/plain": [
       "<Figure size 864x432 with 1 Axes>"
      ]
     },
     "metadata": {},
     "output_type": "display_data"
    }
   ],
   "source": [
    "fig = plt.figure(figsize=(12,6))\n",
    "ax = fig.add_subplot(1,1,1)\n",
    "plt.title('Average tweet sentiment 2008-2017')\n",
    "plt.xticks(range(5,102,12),range(2009,2018))\n",
    "plt.yticks(np.arange(0,0.21,0.05))\n",
    "plt.ylabel('Sentiment')\n",
    "ax.plot(df.month, df.avg_sentiment, alpha=0.15)\n",
    "ax.plot(df.month, df.ma, color='r')\n",
    "plt.show()"
   ]
  }
 ],
 "metadata": {
  "hide_input": false,
  "kernelspec": {
   "display_name": "Python 3",
   "language": "python",
   "name": "python3"
  },
  "language_info": {
   "codemirror_mode": {
    "name": "ipython",
    "version": 3
   },
   "file_extension": ".py",
   "mimetype": "text/x-python",
   "name": "python",
   "nbconvert_exporter": "python",
   "pygments_lexer": "ipython3",
   "version": "3.8.6"
  },
  "toc": {
   "base_numbering": 1,
   "nav_menu": {},
   "number_sections": true,
   "sideBar": true,
   "skip_h1_title": true,
   "title_cell": "Table of Contents",
   "title_sidebar": "Contents",
   "toc_cell": true,
   "toc_position": {},
   "toc_section_display": true,
   "toc_window_display": false
  },
  "varInspector": {
   "cols": {
    "lenName": 16,
    "lenType": 16,
    "lenVar": 40
   },
   "kernels_config": {
    "python": {
     "delete_cmd_postfix": "",
     "delete_cmd_prefix": "del ",
     "library": "var_list.py",
     "varRefreshCmd": "print(var_dic_list())"
    },
    "r": {
     "delete_cmd_postfix": ") ",
     "delete_cmd_prefix": "rm(",
     "library": "var_list.r",
     "varRefreshCmd": "cat(var_dic_list()) "
    }
   },
   "types_to_exclude": [
    "module",
    "function",
    "builtin_function_or_method",
    "instance",
    "_Feature"
   ],
   "window_display": false
  }
 },
 "nbformat": 4,
 "nbformat_minor": 4
}
