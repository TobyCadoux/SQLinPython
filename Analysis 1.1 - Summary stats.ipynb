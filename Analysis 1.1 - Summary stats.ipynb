{
 "cells": [
  {
   "cell_type": "markdown",
   "metadata": {
    "toc": true
   },
   "source": [
    "<h1>Table of Contents<span class=\"tocSkip\"></span></h1>\n",
    "<div class=\"toc\"><ul class=\"toc-item\"><li><span><a href=\"#Imports-and-definitions\" data-toc-modified-id=\"Imports-and-definitions-1\"><span class=\"toc-item-num\">1&nbsp;&nbsp;</span>Imports and definitions</a></span></li><li><span><a href=\"#Load-tables\" data-toc-modified-id=\"Load-tables-2\"><span class=\"toc-item-num\">2&nbsp;&nbsp;</span>Load tables</a></span></li><li><span><a href=\"#Statistics\" data-toc-modified-id=\"Statistics-3\"><span class=\"toc-item-num\">3&nbsp;&nbsp;</span>Statistics</a></span><ul class=\"toc-item\"><li><span><a href=\"#Tweet-frequencies\" data-toc-modified-id=\"Tweet-frequencies-3.1\"><span class=\"toc-item-num\">3.1&nbsp;&nbsp;</span>Tweet frequencies</a></span></li><li><span><a href=\"#Summary-statistics-functions\" data-toc-modified-id=\"Summary-statistics-functions-3.2\"><span class=\"toc-item-num\">3.2&nbsp;&nbsp;</span>Summary statistics functions</a></span></li><li><span><a href=\"#Summary-stats-for-tweets\" data-toc-modified-id=\"Summary-stats-for-tweets-3.3\"><span class=\"toc-item-num\">3.3&nbsp;&nbsp;</span>Summary stats for <code>tweets</code></a></span></li><li><span><a href=\"#Summary-stats-for-user\" data-toc-modified-id=\"Summary-stats-for-user-3.4\"><span class=\"toc-item-num\">3.4&nbsp;&nbsp;</span>Summary stats for <code>user</code></a></span></li><li><span><a href=\"#Analyzing-hashtags\" data-toc-modified-id=\"Analyzing-hashtags-3.5\"><span class=\"toc-item-num\">3.5&nbsp;&nbsp;</span>Analyzing hashtags</a></span></li><li><span><a href=\"#Hashtags-for-highly-retweeted-items\" data-toc-modified-id=\"Hashtags-for-highly-retweeted-items-3.6\"><span class=\"toc-item-num\">3.6&nbsp;&nbsp;</span>Hashtags for highly retweeted items</a></span></li><li><span><a href=\"#Linking-mention-to-the-user-table\" data-toc-modified-id=\"Linking-mention-to-the-user-table-3.7\"><span class=\"toc-item-num\">3.7&nbsp;&nbsp;</span>Linking <code>mention</code> to the <code>user</code> table</a></span></li><li><span><a href=\"#Summary-stats-for-mention\" data-toc-modified-id=\"Summary-stats-for-mention-3.8\"><span class=\"toc-item-num\">3.8&nbsp;&nbsp;</span>Summary stats for <code>mention</code></a></span></li></ul></li></ul></div>"
   ]
  },
  {
   "cell_type": "markdown",
   "metadata": {},
   "source": [
    "# Analysis 1"
   ]
  },
  {
   "cell_type": "markdown",
   "metadata": {},
   "source": [
    "## Imports and definitions"
   ]
  },
  {
   "cell_type": "code",
   "execution_count": 1,
   "metadata": {},
   "outputs": [],
   "source": [
    "import pandas as pd\n",
    "pd.set_option('max_colwidth', None)\n",
    "pd.set_option('display.float_format', lambda x: '%.2f' % x)\n",
    "import numpy as np\n",
    "import datetime as dt\n",
    "import statsmodels.api as sm\n",
    "import matplotlib.pyplot as plt\n",
    "plt.style.use('fivethirtyeight') #Generally nice\n",
    "from pandasql import sqldf\n",
    "sql = lambda x: sqldf(x, globals())"
   ]
  },
  {
   "cell_type": "markdown",
   "metadata": {},
   "source": [
    "## Load tables"
   ]
  },
  {
   "cell_type": "code",
   "execution_count": 2,
   "metadata": {},
   "outputs": [],
   "source": [
    "path = 'output_data/'\n",
    "tweet = pd.read_csv(path+'tweet.csv', lineterminator='r')\n",
    "user = pd.read_csv(path+'user.csv')\n",
    "hashtag = pd.read_csv(path+'hashtag.csv')\n",
    "mention = pd.read_csv(path+'mention.csv')\n",
    "tweet_hashtag = pd.read_csv(path+'tweet_hashtag.csv')\n",
    "tweet_mention = pd.read_csv(path+'tweet_mention.csv')"
   ]
  },
  {
   "cell_type": "markdown",
   "metadata": {},
   "source": [
    "## Statistics\n",
    "### Tweet frequencies"
   ]
  },
  {
   "cell_type": "code",
   "execution_count": 3,
   "metadata": {},
   "outputs": [],
   "source": [
    "# Simple tweet frequencies\n",
    "tweet_freq_hour = sql('''\n",
    "SELECT  strftime('%H', created_at) AS hour, count(*) AS cnt\n",
    "FROM tweet\n",
    "GROUP BY hour;\n",
    "''')\n"
   ]
  },
  {
   "cell_type": "code",
   "execution_count": 4,
   "metadata": {},
   "outputs": [
    {
     "data": {
      "text/plain": [
       "<matplotlib.axes._subplots.AxesSubplot at 0x7f7c2a84d100>"
      ]
     },
     "execution_count": 4,
     "metadata": {},
     "output_type": "execute_result"
    },
    {
     "data": {
      "image/png": "[encoded data removed]",
      "text/plain": [
       "<Figure size 432x288 with 1 Axes>"
      ]
     },
     "metadata": {},
     "output_type": "display_data"
    }
   ],
   "source": [
    "tweet_freq_hour.plot(kind='bar',legend=None, title='No. tweets by time', x='hour')"
   ]
  },
  {
   "cell_type": "markdown",
   "metadata": {},
   "source": [
    "These times are given in UTC, which is fine, but reminded me to take account of DST which in the US runs from the second Sunday in March to the first Sunday in November.  I estimated these to be 11 Mar and 4 Nov respectively."
   ]
  },
  {
   "cell_type": "code",
   "execution_count": 5,
   "metadata": {},
   "outputs": [],
   "source": [
    "# Tweet frequencies DST and non-DST\n",
    "tweet_freq_hour_winter = sql('''\n",
    "SELECT  strftime('%H', created_at) AS hour, count(*) AS cnt\n",
    "FROM tweet\n",
    "-- Allocate each consecutive day an increasing number, then figure out what\n",
    "-- day number corresponds to the approx. start and end of DST\n",
    "-- 3*32+11 = 107, 11*32+4 = 356\n",
    "WHERE   CAST(strftime('%m', created_at) AS INT)*32\n",
    "        +CAST(strftime('%d', created_at) AS INT) <= 107\n",
    "        OR\n",
    "        CAST(strftime('%m', created_at) AS INT)*32\n",
    "        +CAST(strftime('%d', created_at) AS INT) >= 356\n",
    "GROUP BY hour;\n",
    "''')\n",
    "tweet_freq_hour_summer = sql('''\n",
    "SELECT  strftime('%H', created_at) AS hour, count(*) AS cnt\n",
    "FROM tweet\n",
    "-- Allocate each consecutive day an increasing number, then figure out what\n",
    "-- day number corresponds to the approx. start and end of DST\n",
    "-- 3*32+11 = 107, 11*32+4 = 356\n",
    "WHERE   CAST(strftime('%m', created_at) AS INT)*32\n",
    "        +CAST(strftime('%d', created_at) AS INT) > 107\n",
    "        AND\n",
    "        CAST(strftime('%m', created_at) AS INT)*32\n",
    "        +CAST(strftime('%d', created_at) AS INT) < 356\n",
    "GROUP BY hour;\n",
    "''')"
   ]
  },
  {
   "cell_type": "markdown",
   "metadata": {},
   "source": [
    "The politicians we are interested in are mostly based in DC which is UTC-05."
   ]
  },
  {
   "cell_type": "code",
   "execution_count": 6,
   "metadata": {},
   "outputs": [],
   "source": [
    "# Convert from UTC to Eastern Time\n",
    "tweet_freq_hour_winter['hour'] = [str(x) for x in range(19,24)]+\\\n",
    "                                 ['0'+str(x) for x in range(10)]+\\\n",
    "                                 [str(x) for x in range(10,19)]\n",
    "\n",
    "tweet_freq_hour_summer['hour'] = [str(x) for x in range(20,24)]+\\\n",
    "                                 ['0'+str(x) for x in range(10)]+\\\n",
    "                                 [str(x) for x in range(10,20)]\n",
    "tweet_freq_hour_winter = tweet_freq_hour_winter.sort_values(by='hour').set_index('hour')\n",
    "tweet_freq_hour_summer = tweet_freq_hour_summer.sort_values(by='hour').set_index('hour')\n",
    "#Reuse this variable\n",
    "tweet_freq_hour = tweet_freq_hour_summer + tweet_freq_hour_winter\n",
    "tweet_freq_hour.reset_index(inplace=True)\n",
    "# Refactor to allow arbitrary time change?"
   ]
  },
  {
   "cell_type": "code",
   "execution_count": 7,
   "metadata": {},
   "outputs": [
    {
     "data": {
      "text/plain": [
       "<BarContainer object of 24 artists>"
      ]
     },
     "execution_count": 7,
     "metadata": {},
     "output_type": "execute_result"
    },
    {
     "data": {
      "image/png": "[encoded data removed]",
      "text/plain": [
       "<Figure size 720x360 with 1 Axes>"
      ]
     },
     "metadata": {},
     "output_type": "display_data"
    }
   ],
   "source": [
    "plt.figure(figsize=(10,5))\n",
    "plt.title('No. tweets by time of day')\n",
    "plt.legend('')\n",
    "plt.xlabel('Eastern Time')\n",
    "plt.ylabel('No. Tweets')\n",
    "plt.bar(tweet_freq_hour['hour'], tweet_freq_hour['cnt'])"
   ]
  },
  {
   "cell_type": "markdown",
   "metadata": {},
   "source": [
    "Tweets rocket up at 9am so for tweets to be noticed they should be sent\n",
    "around 8am so that they are more likely to be seen by our targets as they will\n",
    "be more recent."
   ]
  },
  {
   "cell_type": "markdown",
   "metadata": {},
   "source": [
    "#### Political tweets over time"
   ]
  },
  {
   "cell_type": "code",
   "execution_count": 8,
   "metadata": {},
   "outputs": [],
   "source": [
    "def get_tweets_yearly(start_year=2016, end_year=2016):\n",
    "    query = f'''\n",
    "        SELECT SUBSTR(\n",
    "                   DATE(t.created_at,'start of month'),\n",
    "                   1,7) AS month,\n",
    "                COUNT(*) AS frequency\n",
    "        FROM tweet AS t\n",
    "        WHERE CAST(STRFTIME('%Y',t.created_at) AS INT) >= {start_year}\n",
    "                AND\n",
    "              CAST(STRFTIME('%Y',t.created_at) AS INT) <= {end_year}\n",
    "        GROUP BY month\n",
    "        ORDER BY month\n",
    "        ;'''\n",
    "    return sql(query)"
   ]
  },
  {
   "cell_type": "code",
   "execution_count": 9,
   "metadata": {},
   "outputs": [],
   "source": [
    "df = get_tweets_yearly(2008,2017)"
   ]
  },
  {
   "cell_type": "code",
   "execution_count": 10,
   "metadata": {},
   "outputs": [
    {
     "data": {
      "text/plain": [
       "Text(0.5, 1.0, 'Tweet volume by time')"
      ]
     },
     "execution_count": 10,
     "metadata": {},
     "output_type": "execute_result"
    },
    {
     "data": {
      "image/png": "[encoded data removed]",
      "text/plain": [
       "<Figure size 1008x576 with 1 Axes>"
      ]
     },
     "metadata": {},
     "output_type": "display_data"
    }
   ],
   "source": [
    "plt.figure(num=1,figsize=(14,8))\n",
    "plt.plot(df.month, df.frequency)\n",
    "plt.xticks(range(5, 110, 12), range(2009, 2018))\n",
    "plt.ylabel('Number of tweets')\n",
    "plt.title('Tweet volume by time')"
   ]
  },
  {
   "cell_type": "markdown",
   "metadata": {},
   "source": [
    "### Summary statistics functions"
   ]
  },
  {
   "cell_type": "code",
   "execution_count": 11,
   "metadata": {},
   "outputs": [],
   "source": [
    "def descriptive (table, column):\n",
    "    count = sql(f'''\n",
    "        SELECT \"Count\" AS statistic,\n",
    "                count({column}) AS value\n",
    "        FROM {table};\n",
    "        ''')\n",
    "    mean = sql(f'''\n",
    "        SELECT \"Mean\" AS statistic,\n",
    "                ROUND(AVG({column}), 2) AS value\n",
    "        FROM {table};\n",
    "        ''')\n",
    "    median = sql(f'''\n",
    "        SELECT \"Median\" AS statistic,\n",
    "                {column} AS value\n",
    "        FROM {table}\n",
    "        ORDER BY {column}\n",
    "        LIMIT 1\n",
    "        OFFSET (SELECT COUNT(*) FROM {table})/2;\n",
    "        ''')\n",
    "    #Use a subquery to give mode two columns like the others\n",
    "    mode = sql(f'''\n",
    "        SELECT statistic, value\n",
    "            FROM(\n",
    "            SELECT \"Mode\" AS statistic,\n",
    "                    {column} AS value,\n",
    "                    COUNT(*)\n",
    "            FROM {table}\n",
    "            GROUP BY {column}\n",
    "            ORDER BY COUNT(*) DESC\n",
    "            LIMIT 1);\n",
    "    ''')\n",
    "    minimum = sql(f'''\n",
    "        SELECT \"Min\" AS statistic,\n",
    "                MIN({column}) AS value\n",
    "        FROM {table}\n",
    "    ''')\n",
    "    maximum = sql(f'''\n",
    "        SELECT \"Max\" AS statistic,\n",
    "                MAX({column}) AS value\n",
    "        FROM {table}\n",
    "    ''')\n",
    "    stdev = sql(f'''\n",
    "        SELECT \"Standard deviation\" AS statistic,\n",
    "                SUM(sqd) AS value\n",
    "        FROM(\n",
    "            SELECT ({table}.{column} - xavg.xbar) *\n",
    "                    ({table}.{column} - xavg.xbar)/xavg.n AS sqd\n",
    "            FROM {table},\n",
    "                (SELECT\n",
    "                    AVG({column}) AS xbar,\n",
    "                    COUNT({column}) AS n\n",
    "                FROM {table}) AS xavg);\n",
    "    ''')\n",
    "    # Take square root to calculate stdev.  Not possible in SQLite.\n",
    "    stdev.iloc[0,1] = np.sqrt(stdev.iloc[0,1])\n",
    "    stats = pd.concat([count, mean, stdev, median,\n",
    "                       mode, minimum, maximum]).set_index('statistic')\n",
    "    return stats"
   ]
  },
  {
   "cell_type": "code",
   "execution_count": 12,
   "metadata": {
    "code_folding": []
   },
   "outputs": [],
   "source": [
    "def get_iqrs (table, column):\n",
    "    query = f\"\"\"\n",
    "WITH\n",
    "percent_tbl AS\n",
    "    (SELECT {column},\n",
    "            NTILE(4) OVER(ORDER BY {column}) AS percent\n",
    "     FROM {table}),\n",
    "p_0 AS (\n",
    "    SELECT (0) AS percentile,\n",
    "        MIN({column}) last_val\n",
    "    FROM percent_tbl),\n",
    "p_25 AS (\n",
    "    SELECT (percent*25) AS percentile,\n",
    "            LAST_VALUE({column}) OVER (PARTITION BY percent) last_val\n",
    "    FROM percent_tbl\n",
    "    WHERE percent=1\n",
    "    LIMIT 1),\n",
    "p_50 AS (\n",
    "    SELECT (percent*25) AS percentile,\n",
    "            LAST_VALUE({column}) OVER (PARTITION BY percent) last_val\n",
    "    FROM percent_tbl\n",
    "    WHERE percent=2\n",
    "    LIMIT 1),\n",
    "p_75 AS (\n",
    "    SELECT (percent*25) AS percentile,\n",
    "            LAST_VALUE({column}) OVER (PARTITION BY percent) last_val\n",
    "    FROM percent_tbl\n",
    "    WHERE percent=3\n",
    "    LIMIT 1),\n",
    "p_100 AS (\n",
    "    SELECT (percent*25) AS percentile,\n",
    "            LAST_VALUE({column}) OVER (PARTITION BY percent) last_val\n",
    "    FROM percent_tbl\n",
    "    WHERE percent=4\n",
    "    LIMIT 1)\n",
    "SELECT * FROM p_0 UNION\n",
    "SELECT * FROM p_25 UNION\n",
    "SELECT * FROM p_50 UNION\n",
    "SELECT * FROM p_75 UNION\n",
    "SELECT * FROM p_100;\n",
    "\"\"\"\n",
    "    iqrs = sql(query)\n",
    "    return iqrs"
   ]
  },
  {
   "cell_type": "markdown",
   "metadata": {},
   "source": [
    "### Summary stats for `tweets`"
   ]
  },
  {
   "cell_type": "code",
   "execution_count": 13,
   "metadata": {},
   "outputs": [
    {
     "name": "stdout",
     "output_type": "stream",
     "text": [
      "==================================================\n",
      "Descriptive statistics for tweet.created_at\n",
      "==================================================\n"
     ]
    },
    {
     "data": {
      "text/html": [
       "<div>\n",
       "<style scoped>\n",
       "    .dataframe tbody tr th:only-of-type {\n",
       "        vertical-align: middle;\n",
       "    }\n",
       "\n",
       "    .dataframe tbody tr th {\n",
       "        vertical-align: top;\n",
       "    }\n",
       "\n",
       "    .dataframe thead th {\n",
       "        text-align: right;\n",
       "    }\n",
       "</style>\n",
       "<table border=\"1\" class=\"dataframe\">\n",
       "  <thead>\n",
       "    <tr style=\"text-align: right;\">\n",
       "      <th></th>\n",
       "      <th>value</th>\n",
       "    </tr>\n",
       "    <tr>\n",
       "      <th>statistic</th>\n",
       "      <th></th>\n",
       "    </tr>\n",
       "  </thead>\n",
       "  <tbody>\n",
       "    <tr>\n",
       "      <th>Count</th>\n",
       "      <td>1226949</td>\n",
       "    </tr>\n",
       "    <tr>\n",
       "      <th>Mean</th>\n",
       "      <td>2014.99</td>\n",
       "    </tr>\n",
       "    <tr>\n",
       "      <th>Standard deviation</th>\n",
       "      <td>1.70</td>\n",
       "    </tr>\n",
       "    <tr>\n",
       "      <th>Median</th>\n",
       "      <td>2015-11-05 04:31:32</td>\n",
       "    </tr>\n",
       "    <tr>\n",
       "      <th>Mode</th>\n",
       "      <td>2015-02-06 15:42:07</td>\n",
       "    </tr>\n",
       "    <tr>\n",
       "      <th>Min</th>\n",
       "      <td>2008-08-04 17:28:51</td>\n",
       "    </tr>\n",
       "    <tr>\n",
       "      <th>Max</th>\n",
       "      <td>2017-06-06 17:16:00</td>\n",
       "    </tr>\n",
       "  </tbody>\n",
       "</table>\n",
       "</div>"
      ],
      "text/plain": [
       "                                  value\n",
       "statistic                              \n",
       "Count                           1226949\n",
       "Mean                            2014.99\n",
       "Standard deviation                 1.70\n",
       "Median              2015-11-05 04:31:32\n",
       "Mode                2015-02-06 15:42:07\n",
       "Min                 2008-08-04 17:28:51\n",
       "Max                 2017-06-06 17:16:00"
      ]
     },
     "metadata": {},
     "output_type": "display_data"
    },
    {
     "data": {
      "text/html": [
       "<style  type=\"text/css\" >\n",
       "</style><table id=\"T_6e2dff34_0ef3_11eb_820b_bfabf5055f76\" ><thead>    <tr>        <th class=\"col_heading level0 col0\" >percentile</th>        <th class=\"col_heading level0 col1\" >last_val</th>    </tr></thead><tbody>\n",
       "                <tr>\n",
       "                                <td id=\"T_6e2dff34_0ef3_11eb_820b_bfabf5055f76row0_col0\" class=\"data row0 col0\" >0</td>\n",
       "                        <td id=\"T_6e2dff34_0ef3_11eb_820b_bfabf5055f76row0_col1\" class=\"data row0 col1\" >2008-08-04 17:28:51</td>\n",
       "            </tr>\n",
       "            <tr>\n",
       "                                <td id=\"T_6e2dff34_0ef3_11eb_820b_bfabf5055f76row1_col0\" class=\"data row1 col0\" >25</td>\n",
       "                        <td id=\"T_6e2dff34_0ef3_11eb_820b_bfabf5055f76row1_col1\" class=\"data row1 col1\" >2014-06-11 14:42:51</td>\n",
       "            </tr>\n",
       "            <tr>\n",
       "                                <td id=\"T_6e2dff34_0ef3_11eb_820b_bfabf5055f76row2_col0\" class=\"data row2 col0\" >50</td>\n",
       "                        <td id=\"T_6e2dff34_0ef3_11eb_820b_bfabf5055f76row2_col1\" class=\"data row2 col1\" >2015-11-05 04:31:32</td>\n",
       "            </tr>\n",
       "            <tr>\n",
       "                                <td id=\"T_6e2dff34_0ef3_11eb_820b_bfabf5055f76row3_col0\" class=\"data row3 col0\" >75</td>\n",
       "                        <td id=\"T_6e2dff34_0ef3_11eb_820b_bfabf5055f76row3_col1\" class=\"data row3 col1\" >2016-09-28 16:29:02</td>\n",
       "            </tr>\n",
       "            <tr>\n",
       "                                <td id=\"T_6e2dff34_0ef3_11eb_820b_bfabf5055f76row4_col0\" class=\"data row4 col0\" >100</td>\n",
       "                        <td id=\"T_6e2dff34_0ef3_11eb_820b_bfabf5055f76row4_col1\" class=\"data row4 col1\" >2017-06-06 17:16:00</td>\n",
       "            </tr>\n",
       "    </tbody></table>"
      ],
      "text/plain": [
       "<pandas.io.formats.style.Styler at 0x7f7c42d34490>"
      ]
     },
     "metadata": {},
     "output_type": "display_data"
    },
    {
     "name": "stdout",
     "output_type": "stream",
     "text": [
      "==================================================\n",
      "Descriptive statistics for tweet.id\n",
      "==================================================\n"
     ]
    },
    {
     "data": {
      "text/html": [
       "<div>\n",
       "<style scoped>\n",
       "    .dataframe tbody tr th:only-of-type {\n",
       "        vertical-align: middle;\n",
       "    }\n",
       "\n",
       "    .dataframe tbody tr th {\n",
       "        vertical-align: top;\n",
       "    }\n",
       "\n",
       "    .dataframe thead th {\n",
       "        text-align: right;\n",
       "    }\n",
       "</style>\n",
       "<table border=\"1\" class=\"dataframe\">\n",
       "  <thead>\n",
       "    <tr style=\"text-align: right;\">\n",
       "      <th></th>\n",
       "      <th>value</th>\n",
       "    </tr>\n",
       "    <tr>\n",
       "      <th>statistic</th>\n",
       "      <th></th>\n",
       "    </tr>\n",
       "  </thead>\n",
       "  <tbody>\n",
       "    <tr>\n",
       "      <th>Count</th>\n",
       "      <td>1226949.00</td>\n",
       "    </tr>\n",
       "    <tr>\n",
       "      <th>Mean</th>\n",
       "      <td>609487441012720256.00</td>\n",
       "    </tr>\n",
       "    <tr>\n",
       "      <th>Standard deviation</th>\n",
       "      <td>213953496225577536.00</td>\n",
       "    </tr>\n",
       "    <tr>\n",
       "      <th>Median</th>\n",
       "      <td>662125066025574400.00</td>\n",
       "    </tr>\n",
       "    <tr>\n",
       "      <th>Mode</th>\n",
       "      <td>872140026737336320.00</td>\n",
       "    </tr>\n",
       "    <tr>\n",
       "      <th>Min</th>\n",
       "      <td>877418565.00</td>\n",
       "    </tr>\n",
       "    <tr>\n",
       "      <th>Max</th>\n",
       "      <td>872140026737336320.00</td>\n",
       "    </tr>\n",
       "  </tbody>\n",
       "</table>\n",
       "</div>"
      ],
      "text/plain": [
       "                                   value\n",
       "statistic                               \n",
       "Count                         1226949.00\n",
       "Mean               609487441012720256.00\n",
       "Standard deviation 213953496225577536.00\n",
       "Median             662125066025574400.00\n",
       "Mode               872140026737336320.00\n",
       "Min                         877418565.00\n",
       "Max                872140026737336320.00"
      ]
     },
     "metadata": {},
     "output_type": "display_data"
    },
    {
     "data": {
      "text/html": [
       "<style  type=\"text/css\" >\n",
       "</style><table id=\"T_9369a46a_0ef3_11eb_820b_bfabf5055f76\" ><thead>    <tr>        <th class=\"col_heading level0 col0\" >percentile</th>        <th class=\"col_heading level0 col1\" >last_val</th>    </tr></thead><tbody>\n",
       "                <tr>\n",
       "                                <td id=\"T_9369a46a_0ef3_11eb_820b_bfabf5055f76row0_col0\" class=\"data row0 col0\" >0</td>\n",
       "                        <td id=\"T_9369a46a_0ef3_11eb_820b_bfabf5055f76row0_col1\" class=\"data row0 col1\" >877418565</td>\n",
       "            </tr>\n",
       "            <tr>\n",
       "                                <td id=\"T_9369a46a_0ef3_11eb_820b_bfabf5055f76row1_col0\" class=\"data row1 col0\" >25</td>\n",
       "                        <td id=\"T_9369a46a_0ef3_11eb_820b_bfabf5055f76row1_col1\" class=\"data row1 col1\" >476736323265777664</td>\n",
       "            </tr>\n",
       "            <tr>\n",
       "                                <td id=\"T_9369a46a_0ef3_11eb_820b_bfabf5055f76row2_col0\" class=\"data row2 col0\" >50</td>\n",
       "                        <td id=\"T_9369a46a_0ef3_11eb_820b_bfabf5055f76row2_col1\" class=\"data row2 col1\" >662125066025574400</td>\n",
       "            </tr>\n",
       "            <tr>\n",
       "                                <td id=\"T_9369a46a_0ef3_11eb_820b_bfabf5055f76row3_col0\" class=\"data row3 col0\" >75</td>\n",
       "                        <td id=\"T_9369a46a_0ef3_11eb_820b_bfabf5055f76row3_col1\" class=\"data row3 col1\" >781168853250404352</td>\n",
       "            </tr>\n",
       "            <tr>\n",
       "                                <td id=\"T_9369a46a_0ef3_11eb_820b_bfabf5055f76row4_col0\" class=\"data row4 col0\" >100</td>\n",
       "                        <td id=\"T_9369a46a_0ef3_11eb_820b_bfabf5055f76row4_col1\" class=\"data row4 col1\" >872140026737336320</td>\n",
       "            </tr>\n",
       "    </tbody></table>"
      ],
      "text/plain": [
       "<pandas.io.formats.style.Styler at 0x7f7cc8e1b850>"
      ]
     },
     "metadata": {},
     "output_type": "display_data"
    },
    {
     "name": "stdout",
     "output_type": "stream",
     "text": [
      "==================================================\n",
      "Descriptive statistics for tweet.retweet_count\n",
      "==================================================\n"
     ]
    },
    {
     "data": {
      "text/html": [
       "<div>\n",
       "<style scoped>\n",
       "    .dataframe tbody tr th:only-of-type {\n",
       "        vertical-align: middle;\n",
       "    }\n",
       "\n",
       "    .dataframe tbody tr th {\n",
       "        vertical-align: top;\n",
       "    }\n",
       "\n",
       "    .dataframe thead th {\n",
       "        text-align: right;\n",
       "    }\n",
       "</style>\n",
       "<table border=\"1\" class=\"dataframe\">\n",
       "  <thead>\n",
       "    <tr style=\"text-align: right;\">\n",
       "      <th></th>\n",
       "      <th>value</th>\n",
       "    </tr>\n",
       "    <tr>\n",
       "      <th>statistic</th>\n",
       "      <th></th>\n",
       "    </tr>\n",
       "  </thead>\n",
       "  <tbody>\n",
       "    <tr>\n",
       "      <th>Count</th>\n",
       "      <td>1226949.00</td>\n",
       "    </tr>\n",
       "    <tr>\n",
       "      <th>Mean</th>\n",
       "      <td>190.30</td>\n",
       "    </tr>\n",
       "    <tr>\n",
       "      <th>Standard deviation</th>\n",
       "      <td>10005.70</td>\n",
       "    </tr>\n",
       "    <tr>\n",
       "      <th>Median</th>\n",
       "      <td>4.00</td>\n",
       "    </tr>\n",
       "    <tr>\n",
       "      <th>Mode</th>\n",
       "      <td>1.00</td>\n",
       "    </tr>\n",
       "    <tr>\n",
       "      <th>Min</th>\n",
       "      <td>0.00</td>\n",
       "    </tr>\n",
       "    <tr>\n",
       "      <th>Max</th>\n",
       "      <td>3637896.00</td>\n",
       "    </tr>\n",
       "  </tbody>\n",
       "</table>\n",
       "</div>"
      ],
      "text/plain": [
       "                        value\n",
       "statistic                    \n",
       "Count              1226949.00\n",
       "Mean                   190.30\n",
       "Standard deviation   10005.70\n",
       "Median                   4.00\n",
       "Mode                     1.00\n",
       "Min                      0.00\n",
       "Max                3637896.00"
      ]
     },
     "metadata": {},
     "output_type": "display_data"
    },
    {
     "data": {
      "text/html": [
       "<style  type=\"text/css\" >\n",
       "</style><table id=\"T_b7dc0fc2_0ef3_11eb_820b_bfabf5055f76\" ><thead>    <tr>        <th class=\"col_heading level0 col0\" >percentile</th>        <th class=\"col_heading level0 col1\" >last_val</th>    </tr></thead><tbody>\n",
       "                <tr>\n",
       "                                <td id=\"T_b7dc0fc2_0ef3_11eb_820b_bfabf5055f76row0_col0\" class=\"data row0 col0\" >0</td>\n",
       "                        <td id=\"T_b7dc0fc2_0ef3_11eb_820b_bfabf5055f76row0_col1\" class=\"data row0 col1\" >0</td>\n",
       "            </tr>\n",
       "            <tr>\n",
       "                                <td id=\"T_b7dc0fc2_0ef3_11eb_820b_bfabf5055f76row1_col0\" class=\"data row1 col0\" >25</td>\n",
       "                        <td id=\"T_b7dc0fc2_0ef3_11eb_820b_bfabf5055f76row1_col1\" class=\"data row1 col1\" >1</td>\n",
       "            </tr>\n",
       "            <tr>\n",
       "                                <td id=\"T_b7dc0fc2_0ef3_11eb_820b_bfabf5055f76row2_col0\" class=\"data row2 col0\" >50</td>\n",
       "                        <td id=\"T_b7dc0fc2_0ef3_11eb_820b_bfabf5055f76row2_col1\" class=\"data row2 col1\" >4</td>\n",
       "            </tr>\n",
       "            <tr>\n",
       "                                <td id=\"T_b7dc0fc2_0ef3_11eb_820b_bfabf5055f76row3_col0\" class=\"data row3 col0\" >75</td>\n",
       "                        <td id=\"T_b7dc0fc2_0ef3_11eb_820b_bfabf5055f76row3_col1\" class=\"data row3 col1\" >10</td>\n",
       "            </tr>\n",
       "            <tr>\n",
       "                                <td id=\"T_b7dc0fc2_0ef3_11eb_820b_bfabf5055f76row4_col0\" class=\"data row4 col0\" >100</td>\n",
       "                        <td id=\"T_b7dc0fc2_0ef3_11eb_820b_bfabf5055f76row4_col1\" class=\"data row4 col1\" >3637896</td>\n",
       "            </tr>\n",
       "    </tbody></table>"
      ],
      "text/plain": [
       "<pandas.io.formats.style.Styler at 0x7f7c2cc541c0>"
      ]
     },
     "metadata": {},
     "output_type": "display_data"
    },
    {
     "name": "stdout",
     "output_type": "stream",
     "text": [
      "==================================================\n",
      "Descriptive statistics for tweet.screen_name\n",
      "==================================================\n"
     ]
    },
    {
     "data": {
      "text/html": [
       "<div>\n",
       "<style scoped>\n",
       "    .dataframe tbody tr th:only-of-type {\n",
       "        vertical-align: middle;\n",
       "    }\n",
       "\n",
       "    .dataframe tbody tr th {\n",
       "        vertical-align: top;\n",
       "    }\n",
       "\n",
       "    .dataframe thead th {\n",
       "        text-align: right;\n",
       "    }\n",
       "</style>\n",
       "<table border=\"1\" class=\"dataframe\">\n",
       "  <thead>\n",
       "    <tr style=\"text-align: right;\">\n",
       "      <th></th>\n",
       "      <th>value</th>\n",
       "    </tr>\n",
       "    <tr>\n",
       "      <th>statistic</th>\n",
       "      <th></th>\n",
       "    </tr>\n",
       "  </thead>\n",
       "  <tbody>\n",
       "    <tr>\n",
       "      <th>Count</th>\n",
       "      <td>1226949</td>\n",
       "    </tr>\n",
       "    <tr>\n",
       "      <th>Mean</th>\n",
       "      <td>0.00</td>\n",
       "    </tr>\n",
       "    <tr>\n",
       "      <th>Standard deviation</th>\n",
       "      <td>0.00</td>\n",
       "    </tr>\n",
       "    <tr>\n",
       "      <th>Median</th>\n",
       "      <td>RepLukeMesser</td>\n",
       "    </tr>\n",
       "    <tr>\n",
       "      <th>Mode</th>\n",
       "      <td>MassGovernor</td>\n",
       "    </tr>\n",
       "    <tr>\n",
       "      <th>Min</th>\n",
       "      <td>AkGovBillWalker</td>\n",
       "    </tr>\n",
       "    <tr>\n",
       "      <th>Max</th>\n",
       "      <td>virginiafoxx</td>\n",
       "    </tr>\n",
       "  </tbody>\n",
       "</table>\n",
       "</div>"
      ],
      "text/plain": [
       "                              value\n",
       "statistic                          \n",
       "Count                       1226949\n",
       "Mean                           0.00\n",
       "Standard deviation             0.00\n",
       "Median                RepLukeMesser\n",
       "Mode                   MassGovernor\n",
       "Min                 AkGovBillWalker\n",
       "Max                    virginiafoxx"
      ]
     },
     "metadata": {},
     "output_type": "display_data"
    },
    {
     "data": {
      "text/html": [
       "<style  type=\"text/css\" >\n",
       "</style><table id=\"T_de60c764_0ef3_11eb_820b_bfabf5055f76\" ><thead>    <tr>        <th class=\"col_heading level0 col0\" >percentile</th>        <th class=\"col_heading level0 col1\" >last_val</th>    </tr></thead><tbody>\n",
       "                <tr>\n",
       "                                <td id=\"T_de60c764_0ef3_11eb_820b_bfabf5055f76row0_col0\" class=\"data row0 col0\" >0</td>\n",
       "                        <td id=\"T_de60c764_0ef3_11eb_820b_bfabf5055f76row0_col1\" class=\"data row0 col1\" >AkGovBillWalker</td>\n",
       "            </tr>\n",
       "            <tr>\n",
       "                                <td id=\"T_de60c764_0ef3_11eb_820b_bfabf5055f76row1_col0\" class=\"data row1 col0\" >25</td>\n",
       "                        <td id=\"T_de60c764_0ef3_11eb_820b_bfabf5055f76row1_col1\" class=\"data row1 col1\" >RepAnnieKuster</td>\n",
       "            </tr>\n",
       "            <tr>\n",
       "                                <td id=\"T_de60c764_0ef3_11eb_820b_bfabf5055f76row2_col0\" class=\"data row2 col0\" >50</td>\n",
       "                        <td id=\"T_de60c764_0ef3_11eb_820b_bfabf5055f76row2_col1\" class=\"data row2 col1\" >RepLukeMesser</td>\n",
       "            </tr>\n",
       "            <tr>\n",
       "                                <td id=\"T_de60c764_0ef3_11eb_820b_bfabf5055f76row3_col0\" class=\"data row3 col0\" >75</td>\n",
       "                        <td id=\"T_de60c764_0ef3_11eb_820b_bfabf5055f76row3_col1\" class=\"data row3 col1\" >SenJohnMcCain</td>\n",
       "            </tr>\n",
       "            <tr>\n",
       "                                <td id=\"T_de60c764_0ef3_11eb_820b_bfabf5055f76row4_col0\" class=\"data row4 col0\" >100</td>\n",
       "                        <td id=\"T_de60c764_0ef3_11eb_820b_bfabf5055f76row4_col1\" class=\"data row4 col1\" >virginiafoxx</td>\n",
       "            </tr>\n",
       "    </tbody></table>"
      ],
      "text/plain": [
       "<pandas.io.formats.style.Styler at 0x7f7c2cf7f820>"
      ]
     },
     "metadata": {},
     "output_type": "display_data"
    },
    {
     "name": "stdout",
     "output_type": "stream",
     "text": [
      "==================================================\n",
      "Descriptive statistics for tweet.text\n",
      "==================================================\n"
     ]
    },
    {
     "data": {
      "text/html": [
       "<div>\n",
       "<style scoped>\n",
       "    .dataframe tbody tr th:only-of-type {\n",
       "        vertical-align: middle;\n",
       "    }\n",
       "\n",
       "    .dataframe tbody tr th {\n",
       "        vertical-align: top;\n",
       "    }\n",
       "\n",
       "    .dataframe thead th {\n",
       "        text-align: right;\n",
       "    }\n",
       "</style>\n",
       "<table border=\"1\" class=\"dataframe\">\n",
       "  <thead>\n",
       "    <tr style=\"text-align: right;\">\n",
       "      <th></th>\n",
       "      <th>value</th>\n",
       "    </tr>\n",
       "    <tr>\n",
       "      <th>statistic</th>\n",
       "      <th></th>\n",
       "    </tr>\n",
       "  </thead>\n",
       "  <tbody>\n",
       "    <tr>\n",
       "      <th>Count</th>\n",
       "      <td>1226947</td>\n",
       "    </tr>\n",
       "    <tr>\n",
       "      <th>Mean</th>\n",
       "      <td>-0.01</td>\n",
       "    </tr>\n",
       "    <tr>\n",
       "      <th>Standard deviation</th>\n",
       "      <td>11.11</td>\n",
       "    </tr>\n",
       "    <tr>\n",
       "      <th>Median</th>\n",
       "      <td>I posted photos on Facebook in the album \"USO Care Packages, May \"</td>\n",
       "    </tr>\n",
       "    <tr>\n",
       "      <th>Mode</th>\n",
       "      <td>Happy birthday !</td>\n",
       "    </tr>\n",
       "    <tr>\n",
       "      <th>Min</th>\n",
       "      <td>! ! RT : The Razorbacks have arrived in Albuquerque</td>\n",
       "    </tr>\n",
       "    <tr>\n",
       "      <th>Max</th>\n",
       "      <td>~because I'm happy~ happiest city in the whole USA you're b happier next time</td>\n",
       "    </tr>\n",
       "  </tbody>\n",
       "</table>\n",
       "</div>"
      ],
      "text/plain": [
       "                                                                                            value\n",
       "statistic                                                                                        \n",
       "Count                                                                                     1226947\n",
       "Mean                                                                                        -0.01\n",
       "Standard deviation                                                                          11.11\n",
       "Median                         I posted photos on Facebook in the album \"USO Care Packages, May \"\n",
       "Mode                                                                             Happy birthday !\n",
       "Min                                           ! ! RT : The Razorbacks have arrived in Albuquerque\n",
       "Max                 ~because I'm happy~ happiest city in the whole USA you're b happier next time"
      ]
     },
     "metadata": {},
     "output_type": "display_data"
    },
    {
     "data": {
      "text/html": [
       "<style  type=\"text/css\" >\n",
       "</style><table id=\"T_0ca5f108_0ef4_11eb_820b_bfabf5055f76\" ><thead>    <tr>        <th class=\"col_heading level0 col0\" >percentile</th>        <th class=\"col_heading level0 col1\" >last_val</th>    </tr></thead><tbody>\n",
       "                <tr>\n",
       "                                <td id=\"T_0ca5f108_0ef4_11eb_820b_bfabf5055f76row0_col0\" class=\"data row0 col0\" >0</td>\n",
       "                        <td id=\"T_0ca5f108_0ef4_11eb_820b_bfabf5055f76row0_col1\" class=\"data row0 col1\" >! ! RT : The Razorbacks have arrived in Albuquerque</td>\n",
       "            </tr>\n",
       "            <tr>\n",
       "                                <td id=\"T_0ca5f108_0ef4_11eb_820b_bfabf5055f76row1_col0\" class=\"data row1 col0\" >25</td>\n",
       "                        <td id=\"T_0ca5f108_0ef4_11eb_820b_bfabf5055f76row1_col1\" class=\"data row1 col1\" >: warns fishing fleet heading into weekend; forecasts life threatening temps/chills http</td>\n",
       "            </tr>\n",
       "            <tr>\n",
       "                                <td id=\"T_0ca5f108_0ef4_11eb_820b_bfabf5055f76row2_col0\" class=\"data row2 col0\" >50</td>\n",
       "                        <td id=\"T_0ca5f108_0ef4_11eb_820b_bfabf5055f76row2_col1\" class=\"data row2 col1\" >I posted photos on Facebook in the album \"USO Care Packages, May \"</td>\n",
       "            </tr>\n",
       "            <tr>\n",
       "                                <td id=\"T_0ca5f108_0ef4_11eb_820b_bfabf5055f76row3_col0\" class=\"data row3 col0\" >75</td>\n",
       "                        <td id=\"T_0ca5f108_0ef4_11eb_820b_bfabf5055f76row3_col1\" class=\"data row3 col1\" >So grateful for the grace, strength &amp; perseverance of Doherty family for the past years as they sought this justice for their fallen son</td>\n",
       "            </tr>\n",
       "            <tr>\n",
       "                                <td id=\"T_0ca5f108_0ef4_11eb_820b_bfabf5055f76row4_col0\" class=\"data row4 col0\" >100</td>\n",
       "                        <td id=\"T_0ca5f108_0ef4_11eb_820b_bfabf5055f76row4_col1\" class=\"data row4 col1\" >~because I'm happy~ happiest city in the whole USA you're b happier next time</td>\n",
       "            </tr>\n",
       "    </tbody></table>"
      ],
      "text/plain": [
       "<pandas.io.formats.style.Styler at 0x7f7c30f39370>"
      ]
     },
     "metadata": {},
     "output_type": "display_data"
    },
    {
     "name": "stdout",
     "output_type": "stream",
     "text": [
      "CPU times: user 5min 12s, sys: 16.4 s, total: 5min 28s\n",
      "Wall time: 5min 30s\n"
     ]
    }
   ],
   "source": [
    "%%time\n",
    "for col in tweet.columns:\n",
    "    print('='*50)\n",
    "    print(f'Descriptive statistics for tweet.{col}')\n",
    "    print('='*50)\n",
    "    display(descriptive('tweet',col))\n",
    "    display(get_iqrs('tweet',col).style.hide_index())"
   ]
  },
  {
   "cell_type": "markdown",
   "metadata": {},
   "source": [
    "The high maximum and standard deviation of `retweet_count` initially made me suspect an error.  It turns out that the number of tweets, while almost always low is *highly* negatively skewed and there is a long tail of very high retweet values.\n",
    "\n",
    "However most politicians' tweets are retweeted once and around 50% of tweets are retweeted more than 4 times.\n",
    "\n",
    "|n      |mean |mode|min|Q1|median|Q3|max    |IQR|stdev|\n",
    "|-------|-----|----|---|--|------|--|-------|---|-----|\n",
    "|1226949|190.3|4   |0  |1 |4     |10|3637896|9  |10006|\n",
    "\n",
    "It *might* be worthwhile setting a threshold for 'large' tweets (say the 99th percentile) and looking for traits that these tweets have in common.  I suspect that many of them will rely on the person tweeting which does not help significantly with broadening our audience as we will already be targetting these top figures."
   ]
  },
  {
   "cell_type": "markdown",
   "metadata": {},
   "source": [
    "There is far less than a full month worth of tweets in June 2017 which distorted the graph of tweet volumes above.\n",
    "I will remove these and redraw the graph of tweet volumes.  Also put in a regression line!"
   ]
  },
  {
   "cell_type": "code",
   "execution_count": 14,
   "metadata": {},
   "outputs": [],
   "source": [
    "def get_tweets_yearly(start_year=2008, end_year=2017):\n",
    "    query = f'''\n",
    "        SELECT SUBSTR(\n",
    "                   DATE(t.created_at,'start of month'),\n",
    "                   1,7) AS month,\n",
    "                COUNT(*) AS frequency\n",
    "        FROM (\n",
    "            SELECT created_at\n",
    "            FROM tweet\n",
    "            WHERE created_at < DATE(\"2017-06-01\")\n",
    "            ) AS t\n",
    "        WHERE CAST(STRFTIME('%Y',t.created_at) AS INT) >= {start_year}\n",
    "                AND\n",
    "              CAST(STRFTIME('%Y',t.created_at) AS INT) <= {end_year}\n",
    "        GROUP BY month\n",
    "        ORDER BY month\n",
    "        ;'''\n",
    "    return sql(query)"
   ]
  },
  {
   "cell_type": "code",
   "execution_count": 15,
   "metadata": {},
   "outputs": [],
   "source": [
    "# The number of tweets seems to be linear from 2013 onwards\n",
    "df = get_tweets_yearly(2013,2017)"
   ]
  },
  {
   "cell_type": "code",
   "execution_count": 16,
   "metadata": {},
   "outputs": [],
   "source": [
    "# Create simple regression model\n",
    "y = df['frequency'].values\n",
    "df['month_number']=np.arange(len(df))\n",
    "x = df['month_number'].values\n",
    "x = sm.add_constant(x)\n",
    "model = sm.OLS(y, x, hasconst=True).fit()\n",
    "# Make a line\n",
    "a = model.params[0]\n",
    "b = model.params[1]\n",
    "pred = []\n",
    "for i in x:\n",
    "    pred.append(a+b*i[1])\n",
    "df['yhat'] = pred"
   ]
  },
  {
   "cell_type": "code",
   "execution_count": 17,
   "metadata": {},
   "outputs": [
    {
     "data": {
      "text/plain": [
       "[<matplotlib.lines.Line2D at 0x7f7c26b91640>]"
      ]
     },
     "execution_count": 17,
     "metadata": {},
     "output_type": "execute_result"
    },
    {
     "data": {
      "image/png": "[encoded data removed]",
      "text/plain": [
       "<Figure size 1008x576 with 1 Axes>"
      ]
     },
     "metadata": {},
     "output_type": "display_data"
    }
   ],
   "source": [
    "plt.figure(num=1,figsize=(14,8))\n",
    "plt.ylabel('Number of tweets')\n",
    "plt.title('Tweet volume by time')\n",
    "plt.xticks(range(0, 110, 12), range(2013, 2018))\n",
    "plt.ylim([-1000,38000])\n",
    "plt.yticks(range(0,36001,5000))\n",
    "plt.plot(df.month, df.frequency)\n",
    "plt.plot(df.month, df.yhat, color='red')"
   ]
  },
  {
   "cell_type": "markdown",
   "metadata": {},
   "source": [
    "### Summary stats for `user`"
   ]
  },
  {
   "cell_type": "code",
   "execution_count": 18,
   "metadata": {},
   "outputs": [
    {
     "name": "stdout",
     "output_type": "stream",
     "text": [
      "==================================================\n",
      "Descriptive statistics for user.created_at\n",
      "==================================================\n"
     ]
    },
    {
     "data": {
      "text/html": [
       "<div>\n",
       "<style scoped>\n",
       "    .dataframe tbody tr th:only-of-type {\n",
       "        vertical-align: middle;\n",
       "    }\n",
       "\n",
       "    .dataframe tbody tr th {\n",
       "        vertical-align: top;\n",
       "    }\n",
       "\n",
       "    .dataframe thead th {\n",
       "        text-align: right;\n",
       "    }\n",
       "</style>\n",
       "<table border=\"1\" class=\"dataframe\">\n",
       "  <thead>\n",
       "    <tr style=\"text-align: right;\">\n",
       "      <th></th>\n",
       "      <th>value</th>\n",
       "    </tr>\n",
       "    <tr>\n",
       "      <th>statistic</th>\n",
       "      <th></th>\n",
       "    </tr>\n",
       "  </thead>\n",
       "  <tbody>\n",
       "    <tr>\n",
       "      <th>Count</th>\n",
       "      <td>548</td>\n",
       "    </tr>\n",
       "    <tr>\n",
       "      <th>Mean</th>\n",
       "      <td>2011.48</td>\n",
       "    </tr>\n",
       "    <tr>\n",
       "      <th>Standard deviation</th>\n",
       "      <td>2.53</td>\n",
       "    </tr>\n",
       "    <tr>\n",
       "      <th>Median</th>\n",
       "      <td>2011-02-04</td>\n",
       "    </tr>\n",
       "    <tr>\n",
       "      <th>Mode</th>\n",
       "      <td>2017-01-03</td>\n",
       "    </tr>\n",
       "    <tr>\n",
       "      <th>Min</th>\n",
       "      <td>2007-04-27</td>\n",
       "    </tr>\n",
       "    <tr>\n",
       "      <th>Max</th>\n",
       "      <td>2017-04-19</td>\n",
       "    </tr>\n",
       "  </tbody>\n",
       "</table>\n",
       "</div>"
      ],
      "text/plain": [
       "                         value\n",
       "statistic                     \n",
       "Count                      548\n",
       "Mean                   2011.48\n",
       "Standard deviation        2.53\n",
       "Median              2011-02-04\n",
       "Mode                2017-01-03\n",
       "Min                 2007-04-27\n",
       "Max                 2017-04-19"
      ]
     },
     "metadata": {},
     "output_type": "display_data"
    },
    {
     "data": {
      "text/html": [
       "<style  type=\"text/css\" >\n",
       "</style><table id=\"T_b3b84324_0ef4_11eb_820b_bfabf5055f76\" ><thead>    <tr>        <th class=\"col_heading level0 col0\" >percentile</th>        <th class=\"col_heading level0 col1\" >last_val</th>    </tr></thead><tbody>\n",
       "                <tr>\n",
       "                                <td id=\"T_b3b84324_0ef4_11eb_820b_bfabf5055f76row0_col0\" class=\"data row0 col0\" >0</td>\n",
       "                        <td id=\"T_b3b84324_0ef4_11eb_820b_bfabf5055f76row0_col1\" class=\"data row0 col1\" >2007-04-27</td>\n",
       "            </tr>\n",
       "            <tr>\n",
       "                                <td id=\"T_b3b84324_0ef4_11eb_820b_bfabf5055f76row1_col0\" class=\"data row1 col0\" >25</td>\n",
       "                        <td id=\"T_b3b84324_0ef4_11eb_820b_bfabf5055f76row1_col1\" class=\"data row1 col1\" >2009-07-15</td>\n",
       "            </tr>\n",
       "            <tr>\n",
       "                                <td id=\"T_b3b84324_0ef4_11eb_820b_bfabf5055f76row2_col0\" class=\"data row2 col0\" >50</td>\n",
       "                        <td id=\"T_b3b84324_0ef4_11eb_820b_bfabf5055f76row2_col1\" class=\"data row2 col1\" >2011-02-03</td>\n",
       "            </tr>\n",
       "            <tr>\n",
       "                                <td id=\"T_b3b84324_0ef4_11eb_820b_bfabf5055f76row3_col0\" class=\"data row3 col0\" >75</td>\n",
       "                        <td id=\"T_b3b84324_0ef4_11eb_820b_bfabf5055f76row3_col1\" class=\"data row3 col1\" >2013-02-22</td>\n",
       "            </tr>\n",
       "            <tr>\n",
       "                                <td id=\"T_b3b84324_0ef4_11eb_820b_bfabf5055f76row4_col0\" class=\"data row4 col0\" >100</td>\n",
       "                        <td id=\"T_b3b84324_0ef4_11eb_820b_bfabf5055f76row4_col1\" class=\"data row4 col1\" >2017-04-19</td>\n",
       "            </tr>\n",
       "    </tbody></table>"
      ],
      "text/plain": [
       "<pandas.io.formats.style.Styler at 0x7f7c2a89beb0>"
      ]
     },
     "metadata": {},
     "output_type": "display_data"
    },
    {
     "name": "stdout",
     "output_type": "stream",
     "text": [
      "==================================================\n",
      "Descriptive statistics for user.description\n",
      "==================================================\n"
     ]
    },
    {
     "data": {
      "text/html": [
       "<div>\n",
       "<style scoped>\n",
       "    .dataframe tbody tr th:only-of-type {\n",
       "        vertical-align: middle;\n",
       "    }\n",
       "\n",
       "    .dataframe tbody tr th {\n",
       "        vertical-align: top;\n",
       "    }\n",
       "\n",
       "    .dataframe thead th {\n",
       "        text-align: right;\n",
       "    }\n",
       "</style>\n",
       "<table border=\"1\" class=\"dataframe\">\n",
       "  <thead>\n",
       "    <tr style=\"text-align: right;\">\n",
       "      <th></th>\n",
       "      <th>value</th>\n",
       "    </tr>\n",
       "    <tr>\n",
       "      <th>statistic</th>\n",
       "      <th></th>\n",
       "    </tr>\n",
       "  </thead>\n",
       "  <tbody>\n",
       "    <tr>\n",
       "      <th>Count</th>\n",
       "      <td>539</td>\n",
       "    </tr>\n",
       "    <tr>\n",
       "      <th>Mean</th>\n",
       "      <td>0.55</td>\n",
       "    </tr>\n",
       "    <tr>\n",
       "      <th>Standard deviation</th>\n",
       "      <td>5.20</td>\n",
       "    </tr>\n",
       "    <tr>\n",
       "      <th>Median</th>\n",
       "      <td>Proud Husband | Father | @Cavs @Indians @Browns Fan | Congressman for Ohio’s 13th District</td>\n",
       "    </tr>\n",
       "    <tr>\n",
       "      <th>Mode</th>\n",
       "      <td>None</td>\n",
       "    </tr>\n",
       "    <tr>\n",
       "      <th>Min</th>\n",
       "      <td>#IL05 Congressman, House Appropriator, member of Intel Committee, amateur hockey player &amp; hopeful Cubs fan http://t.co/zL9fkzy188  http://t.co/FMe57EKfsC</td>\n",
       "    </tr>\n",
       "    <tr>\n",
       "      <th>Max</th>\n",
       "      <td>proud husband, father, grandfather; humble Rep. of VA's 1st District; Seapower and Projection Forces Subcommittee Chair; advocate of sportsman-led conservation</td>\n",
       "    </tr>\n",
       "  </tbody>\n",
       "</table>\n",
       "</div>"
      ],
      "text/plain": [
       "                                                                                                                                                                              value\n",
       "statistic                                                                                                                                                                          \n",
       "Count                                                                                                                                                                           539\n",
       "Mean                                                                                                                                                                           0.55\n",
       "Standard deviation                                                                                                                                                             5.20\n",
       "Median                                                                                   Proud Husband | Father | @Cavs @Indians @Browns Fan | Congressman for Ohio’s 13th District\n",
       "Mode                                                                                                                                                                           None\n",
       "Min                       #IL05 Congressman, House Appropriator, member of Intel Committee, amateur hockey player & hopeful Cubs fan http://t.co/zL9fkzy188  http://t.co/FMe57EKfsC\n",
       "Max                 proud husband, father, grandfather; humble Rep. of VA's 1st District; Seapower and Projection Forces Subcommittee Chair; advocate of sportsman-led conservation"
      ]
     },
     "metadata": {},
     "output_type": "display_data"
    },
    {
     "data": {
      "text/html": [
       "<style  type=\"text/css\" >\n",
       "</style><table id=\"T_b3b84325_0ef4_11eb_820b_bfabf5055f76\" ><thead>    <tr>        <th class=\"col_heading level0 col0\" >percentile</th>        <th class=\"col_heading level0 col1\" >last_val</th>    </tr></thead><tbody>\n",
       "                <tr>\n",
       "                                <td id=\"T_b3b84325_0ef4_11eb_820b_bfabf5055f76row0_col0\" class=\"data row0 col0\" >0</td>\n",
       "                        <td id=\"T_b3b84325_0ef4_11eb_820b_bfabf5055f76row0_col1\" class=\"data row0 col1\" >#IL05 Congressman, House Appropriator, member of Intel Committee, amateur hockey player & hopeful Cubs fan http://t.co/zL9fkzy188  http://t.co/FMe57EKfsC</td>\n",
       "            </tr>\n",
       "            <tr>\n",
       "                                <td id=\"T_b3b84325_0ef4_11eb_820b_bfabf5055f76row1_col0\" class=\"data row1 col0\" >25</td>\n",
       "                        <td id=\"T_b3b84325_0ef4_11eb_820b_bfabf5055f76row1_col1\" class=\"data row1 col1\" >I am proud to represent Alabama's Third Congressional District.</td>\n",
       "            </tr>\n",
       "            <tr>\n",
       "                                <td id=\"T_b3b84325_0ef4_11eb_820b_bfabf5055f76row2_col0\" class=\"data row2 col0\" >50</td>\n",
       "                        <td id=\"T_b3b84325_0ef4_11eb_820b_bfabf5055f76row2_col1\" class=\"data row2 col1\" >Proud Granite Stater serving New Hampshire in the US Senate. Former Governor. Mother & Grandmother. Frequent Flyer. Pats & Red Sox Fan. Outdoor enthusiast.</td>\n",
       "            </tr>\n",
       "            <tr>\n",
       "                                <td id=\"T_b3b84325_0ef4_11eb_820b_bfabf5055f76row3_col0\" class=\"data row3 col0\" >75</td>\n",
       "                        <td id=\"T_b3b84325_0ef4_11eb_820b_bfabf5055f76row3_col1\" class=\"data row3 col1\" >Representing the State of Texas in the United States Senate.</td>\n",
       "            </tr>\n",
       "            <tr>\n",
       "                                <td id=\"T_b3b84325_0ef4_11eb_820b_bfabf5055f76row4_col0\" class=\"data row4 col0\" >100</td>\n",
       "                        <td id=\"T_b3b84325_0ef4_11eb_820b_bfabf5055f76row4_col1\" class=\"data row4 col1\" >proud husband, father, grandfather; humble Rep. of VA's 1st District; Seapower and Projection Forces Subcommittee Chair; advocate of sportsman-led conservation</td>\n",
       "            </tr>\n",
       "    </tbody></table>"
      ],
      "text/plain": [
       "<pandas.io.formats.style.Styler at 0x7f7c424c3d90>"
      ]
     },
     "metadata": {},
     "output_type": "display_data"
    },
    {
     "name": "stdout",
     "output_type": "stream",
     "text": [
      "==================================================\n",
      "Descriptive statistics for user.followers_count\n",
      "==================================================\n"
     ]
    },
    {
     "data": {
      "text/html": [
       "<div>\n",
       "<style scoped>\n",
       "    .dataframe tbody tr th:only-of-type {\n",
       "        vertical-align: middle;\n",
       "    }\n",
       "\n",
       "    .dataframe tbody tr th {\n",
       "        vertical-align: top;\n",
       "    }\n",
       "\n",
       "    .dataframe thead th {\n",
       "        text-align: right;\n",
       "    }\n",
       "</style>\n",
       "<table border=\"1\" class=\"dataframe\">\n",
       "  <thead>\n",
       "    <tr style=\"text-align: right;\">\n",
       "      <th></th>\n",
       "      <th>value</th>\n",
       "    </tr>\n",
       "    <tr>\n",
       "      <th>statistic</th>\n",
       "      <th></th>\n",
       "    </tr>\n",
       "  </thead>\n",
       "  <tbody>\n",
       "    <tr>\n",
       "      <th>Count</th>\n",
       "      <td>548.00</td>\n",
       "    </tr>\n",
       "    <tr>\n",
       "      <th>Mean</th>\n",
       "      <td>163433.91</td>\n",
       "    </tr>\n",
       "    <tr>\n",
       "      <th>Standard deviation</th>\n",
       "      <td>1595898.91</td>\n",
       "    </tr>\n",
       "    <tr>\n",
       "      <th>Median</th>\n",
       "      <td>16774.00</td>\n",
       "    </tr>\n",
       "    <tr>\n",
       "      <th>Mode</th>\n",
       "      <td>8437.00</td>\n",
       "    </tr>\n",
       "    <tr>\n",
       "      <th>Min</th>\n",
       "      <td>4.00</td>\n",
       "    </tr>\n",
       "    <tr>\n",
       "      <th>Max</th>\n",
       "      <td>31712585.00</td>\n",
       "    </tr>\n",
       "  </tbody>\n",
       "</table>\n",
       "</div>"
      ],
      "text/plain": [
       "                         value\n",
       "statistic                     \n",
       "Count                   548.00\n",
       "Mean                 163433.91\n",
       "Standard deviation  1595898.91\n",
       "Median                16774.00\n",
       "Mode                   8437.00\n",
       "Min                       4.00\n",
       "Max                31712585.00"
      ]
     },
     "metadata": {},
     "output_type": "display_data"
    },
    {
     "data": {
      "text/html": [
       "<style  type=\"text/css\" >\n",
       "</style><table id=\"T_b3b84326_0ef4_11eb_820b_bfabf5055f76\" ><thead>    <tr>        <th class=\"col_heading level0 col0\" >percentile</th>        <th class=\"col_heading level0 col1\" >last_val</th>    </tr></thead><tbody>\n",
       "                <tr>\n",
       "                                <td id=\"T_b3b84326_0ef4_11eb_820b_bfabf5055f76row0_col0\" class=\"data row0 col0\" >0</td>\n",
       "                        <td id=\"T_b3b84326_0ef4_11eb_820b_bfabf5055f76row0_col1\" class=\"data row0 col1\" >4</td>\n",
       "            </tr>\n",
       "            <tr>\n",
       "                                <td id=\"T_b3b84326_0ef4_11eb_820b_bfabf5055f76row1_col0\" class=\"data row1 col0\" >25</td>\n",
       "                        <td id=\"T_b3b84326_0ef4_11eb_820b_bfabf5055f76row1_col1\" class=\"data row1 col1\" >8862</td>\n",
       "            </tr>\n",
       "            <tr>\n",
       "                                <td id=\"T_b3b84326_0ef4_11eb_820b_bfabf5055f76row2_col0\" class=\"data row2 col0\" >50</td>\n",
       "                        <td id=\"T_b3b84326_0ef4_11eb_820b_bfabf5055f76row2_col1\" class=\"data row2 col1\" >16690</td>\n",
       "            </tr>\n",
       "            <tr>\n",
       "                                <td id=\"T_b3b84326_0ef4_11eb_820b_bfabf5055f76row3_col0\" class=\"data row3 col0\" >75</td>\n",
       "                        <td id=\"T_b3b84326_0ef4_11eb_820b_bfabf5055f76row3_col1\" class=\"data row3 col1\" >33042</td>\n",
       "            </tr>\n",
       "            <tr>\n",
       "                                <td id=\"T_b3b84326_0ef4_11eb_820b_bfabf5055f76row4_col0\" class=\"data row4 col0\" >100</td>\n",
       "                        <td id=\"T_b3b84326_0ef4_11eb_820b_bfabf5055f76row4_col1\" class=\"data row4 col1\" >31712585</td>\n",
       "            </tr>\n",
       "    </tbody></table>"
      ],
      "text/plain": [
       "<pandas.io.formats.style.Styler at 0x7f7c424c3d90>"
      ]
     },
     "metadata": {},
     "output_type": "display_data"
    },
    {
     "name": "stdout",
     "output_type": "stream",
     "text": [
      "==================================================\n",
      "Descriptive statistics for user.friends_count\n",
      "==================================================\n"
     ]
    },
    {
     "data": {
      "text/html": [
       "<div>\n",
       "<style scoped>\n",
       "    .dataframe tbody tr th:only-of-type {\n",
       "        vertical-align: middle;\n",
       "    }\n",
       "\n",
       "    .dataframe tbody tr th {\n",
       "        vertical-align: top;\n",
       "    }\n",
       "\n",
       "    .dataframe thead th {\n",
       "        text-align: right;\n",
       "    }\n",
       "</style>\n",
       "<table border=\"1\" class=\"dataframe\">\n",
       "  <thead>\n",
       "    <tr style=\"text-align: right;\">\n",
       "      <th></th>\n",
       "      <th>value</th>\n",
       "    </tr>\n",
       "    <tr>\n",
       "      <th>statistic</th>\n",
       "      <th></th>\n",
       "    </tr>\n",
       "  </thead>\n",
       "  <tbody>\n",
       "    <tr>\n",
       "      <th>Count</th>\n",
       "      <td>548.00</td>\n",
       "    </tr>\n",
       "    <tr>\n",
       "      <th>Mean</th>\n",
       "      <td>2033.73</td>\n",
       "    </tr>\n",
       "    <tr>\n",
       "      <th>Standard deviation</th>\n",
       "      <td>6272.70</td>\n",
       "    </tr>\n",
       "    <tr>\n",
       "      <th>Median</th>\n",
       "      <td>755.00</td>\n",
       "    </tr>\n",
       "    <tr>\n",
       "      <th>Mode</th>\n",
       "      <td>0.00</td>\n",
       "    </tr>\n",
       "    <tr>\n",
       "      <th>Min</th>\n",
       "      <td>0.00</td>\n",
       "    </tr>\n",
       "    <tr>\n",
       "      <th>Max</th>\n",
       "      <td>92934.00</td>\n",
       "    </tr>\n",
       "  </tbody>\n",
       "</table>\n",
       "</div>"
      ],
      "text/plain": [
       "                      value\n",
       "statistic                  \n",
       "Count                548.00\n",
       "Mean                2033.73\n",
       "Standard deviation  6272.70\n",
       "Median               755.00\n",
       "Mode                   0.00\n",
       "Min                    0.00\n",
       "Max                92934.00"
      ]
     },
     "metadata": {},
     "output_type": "display_data"
    },
    {
     "data": {
      "text/html": [
       "<style  type=\"text/css\" >\n",
       "</style><table id=\"T_b3b84327_0ef4_11eb_820b_bfabf5055f76\" ><thead>    <tr>        <th class=\"col_heading level0 col0\" >percentile</th>        <th class=\"col_heading level0 col1\" >last_val</th>    </tr></thead><tbody>\n",
       "                <tr>\n",
       "                                <td id=\"T_b3b84327_0ef4_11eb_820b_bfabf5055f76row0_col0\" class=\"data row0 col0\" >0</td>\n",
       "                        <td id=\"T_b3b84327_0ef4_11eb_820b_bfabf5055f76row0_col1\" class=\"data row0 col1\" >0</td>\n",
       "            </tr>\n",
       "            <tr>\n",
       "                                <td id=\"T_b3b84327_0ef4_11eb_820b_bfabf5055f76row1_col0\" class=\"data row1 col0\" >25</td>\n",
       "                        <td id=\"T_b3b84327_0ef4_11eb_820b_bfabf5055f76row1_col1\" class=\"data row1 col1\" >365</td>\n",
       "            </tr>\n",
       "            <tr>\n",
       "                                <td id=\"T_b3b84327_0ef4_11eb_820b_bfabf5055f76row2_col0\" class=\"data row2 col0\" >50</td>\n",
       "                        <td id=\"T_b3b84327_0ef4_11eb_820b_bfabf5055f76row2_col1\" class=\"data row2 col1\" >748</td>\n",
       "            </tr>\n",
       "            <tr>\n",
       "                                <td id=\"T_b3b84327_0ef4_11eb_820b_bfabf5055f76row3_col0\" class=\"data row3 col0\" >75</td>\n",
       "                        <td id=\"T_b3b84327_0ef4_11eb_820b_bfabf5055f76row3_col1\" class=\"data row3 col1\" >1668</td>\n",
       "            </tr>\n",
       "            <tr>\n",
       "                                <td id=\"T_b3b84327_0ef4_11eb_820b_bfabf5055f76row4_col0\" class=\"data row4 col0\" >100</td>\n",
       "                        <td id=\"T_b3b84327_0ef4_11eb_820b_bfabf5055f76row4_col1\" class=\"data row4 col1\" >92934</td>\n",
       "            </tr>\n",
       "    </tbody></table>"
      ],
      "text/plain": [
       "<pandas.io.formats.style.Styler at 0x7f7c424c3d90>"
      ]
     },
     "metadata": {},
     "output_type": "display_data"
    },
    {
     "name": "stdout",
     "output_type": "stream",
     "text": [
      "==================================================\n",
      "Descriptive statistics for user.name\n",
      "==================================================\n"
     ]
    },
    {
     "data": {
      "text/html": [
       "<div>\n",
       "<style scoped>\n",
       "    .dataframe tbody tr th:only-of-type {\n",
       "        vertical-align: middle;\n",
       "    }\n",
       "\n",
       "    .dataframe tbody tr th {\n",
       "        vertical-align: top;\n",
       "    }\n",
       "\n",
       "    .dataframe thead th {\n",
       "        text-align: right;\n",
       "    }\n",
       "</style>\n",
       "<table border=\"1\" class=\"dataframe\">\n",
       "  <thead>\n",
       "    <tr style=\"text-align: right;\">\n",
       "      <th></th>\n",
       "      <th>value</th>\n",
       "    </tr>\n",
       "    <tr>\n",
       "      <th>statistic</th>\n",
       "      <th></th>\n",
       "    </tr>\n",
       "  </thead>\n",
       "  <tbody>\n",
       "    <tr>\n",
       "      <th>Count</th>\n",
       "      <td>548</td>\n",
       "    </tr>\n",
       "    <tr>\n",
       "      <th>Mean</th>\n",
       "      <td>0.00</td>\n",
       "    </tr>\n",
       "    <tr>\n",
       "      <th>Standard deviation</th>\n",
       "      <td>0.00</td>\n",
       "    </tr>\n",
       "    <tr>\n",
       "      <th>Median</th>\n",
       "      <td>Rep Josh Gottheimer</td>\n",
       "    </tr>\n",
       "    <tr>\n",
       "      <th>Mode</th>\n",
       "      <td>tiberipress</td>\n",
       "    </tr>\n",
       "    <tr>\n",
       "      <th>Min</th>\n",
       "      <td>(((Rep. Nadler)))</td>\n",
       "    </tr>\n",
       "    <tr>\n",
       "      <th>Max</th>\n",
       "      <td>tiberipress</td>\n",
       "    </tr>\n",
       "  </tbody>\n",
       "</table>\n",
       "</div>"
      ],
      "text/plain": [
       "                                  value\n",
       "statistic                              \n",
       "Count                               548\n",
       "Mean                               0.00\n",
       "Standard deviation                 0.00\n",
       "Median              Rep Josh Gottheimer\n",
       "Mode                        tiberipress\n",
       "Min                   (((Rep. Nadler)))\n",
       "Max                         tiberipress"
      ]
     },
     "metadata": {},
     "output_type": "display_data"
    },
    {
     "data": {
      "text/html": [
       "<style  type=\"text/css\" >\n",
       "</style><table id=\"T_b3b84328_0ef4_11eb_820b_bfabf5055f76\" ><thead>    <tr>        <th class=\"col_heading level0 col0\" >percentile</th>        <th class=\"col_heading level0 col1\" >last_val</th>    </tr></thead><tbody>\n",
       "                <tr>\n",
       "                                <td id=\"T_b3b84328_0ef4_11eb_820b_bfabf5055f76row0_col0\" class=\"data row0 col0\" >0</td>\n",
       "                        <td id=\"T_b3b84328_0ef4_11eb_820b_bfabf5055f76row0_col1\" class=\"data row0 col1\" >(((Rep. Nadler)))</td>\n",
       "            </tr>\n",
       "            <tr>\n",
       "                                <td id=\"T_b3b84328_0ef4_11eb_820b_bfabf5055f76row1_col0\" class=\"data row1 col0\" >25</td>\n",
       "                        <td id=\"T_b3b84328_0ef4_11eb_820b_bfabf5055f76row1_col1\" class=\"data row1 col1\" >Governor Tom Wolf</td>\n",
       "            </tr>\n",
       "            <tr>\n",
       "                                <td id=\"T_b3b84328_0ef4_11eb_820b_bfabf5055f76row2_col0\" class=\"data row2 col0\" >50</td>\n",
       "                        <td id=\"T_b3b84328_0ef4_11eb_820b_bfabf5055f76row2_col1\" class=\"data row2 col1\" >Rep John Duncan Jr.</td>\n",
       "            </tr>\n",
       "            <tr>\n",
       "                                <td id=\"T_b3b84328_0ef4_11eb_820b_bfabf5055f76row3_col0\" class=\"data row3 col0\" >75</td>\n",
       "                        <td id=\"T_b3b84328_0ef4_11eb_820b_bfabf5055f76row3_col1\" class=\"data row3 col1\" >Rep. Trent Franks</td>\n",
       "            </tr>\n",
       "            <tr>\n",
       "                                <td id=\"T_b3b84328_0ef4_11eb_820b_bfabf5055f76row4_col0\" class=\"data row4 col0\" >100</td>\n",
       "                        <td id=\"T_b3b84328_0ef4_11eb_820b_bfabf5055f76row4_col1\" class=\"data row4 col1\" >tiberipress</td>\n",
       "            </tr>\n",
       "    </tbody></table>"
      ],
      "text/plain": [
       "<pandas.io.formats.style.Styler at 0x7f7c267df400>"
      ]
     },
     "metadata": {},
     "output_type": "display_data"
    },
    {
     "name": "stdout",
     "output_type": "stream",
     "text": [
      "==================================================\n",
      "Descriptive statistics for user.screen_name\n",
      "==================================================\n"
     ]
    },
    {
     "data": {
      "text/html": [
       "<div>\n",
       "<style scoped>\n",
       "    .dataframe tbody tr th:only-of-type {\n",
       "        vertical-align: middle;\n",
       "    }\n",
       "\n",
       "    .dataframe tbody tr th {\n",
       "        vertical-align: top;\n",
       "    }\n",
       "\n",
       "    .dataframe thead th {\n",
       "        text-align: right;\n",
       "    }\n",
       "</style>\n",
       "<table border=\"1\" class=\"dataframe\">\n",
       "  <thead>\n",
       "    <tr style=\"text-align: right;\">\n",
       "      <th></th>\n",
       "      <th>value</th>\n",
       "    </tr>\n",
       "    <tr>\n",
       "      <th>statistic</th>\n",
       "      <th></th>\n",
       "    </tr>\n",
       "  </thead>\n",
       "  <tbody>\n",
       "    <tr>\n",
       "      <th>Count</th>\n",
       "      <td>548</td>\n",
       "    </tr>\n",
       "    <tr>\n",
       "      <th>Mean</th>\n",
       "      <td>0.00</td>\n",
       "    </tr>\n",
       "    <tr>\n",
       "      <th>Standard deviation</th>\n",
       "      <td>0.00</td>\n",
       "    </tr>\n",
       "    <tr>\n",
       "      <th>Median</th>\n",
       "      <td>RepLouCorrea</td>\n",
       "    </tr>\n",
       "    <tr>\n",
       "      <th>Mode</th>\n",
       "      <td>virginiafoxx</td>\n",
       "    </tr>\n",
       "    <tr>\n",
       "      <th>Min</th>\n",
       "      <td>AkGovBillWalker</td>\n",
       "    </tr>\n",
       "    <tr>\n",
       "      <th>Max</th>\n",
       "      <td>virginiafoxx</td>\n",
       "    </tr>\n",
       "  </tbody>\n",
       "</table>\n",
       "</div>"
      ],
      "text/plain": [
       "                              value\n",
       "statistic                          \n",
       "Count                           548\n",
       "Mean                           0.00\n",
       "Standard deviation             0.00\n",
       "Median                 RepLouCorrea\n",
       "Mode                   virginiafoxx\n",
       "Min                 AkGovBillWalker\n",
       "Max                    virginiafoxx"
      ]
     },
     "metadata": {},
     "output_type": "display_data"
    },
    {
     "data": {
      "text/html": [
       "<style  type=\"text/css\" >\n",
       "</style><table id=\"T_b3b84329_0ef4_11eb_820b_bfabf5055f76\" ><thead>    <tr>        <th class=\"col_heading level0 col0\" >percentile</th>        <th class=\"col_heading level0 col1\" >last_val</th>    </tr></thead><tbody>\n",
       "                <tr>\n",
       "                                <td id=\"T_b3b84329_0ef4_11eb_820b_bfabf5055f76row0_col0\" class=\"data row0 col0\" >0</td>\n",
       "                        <td id=\"T_b3b84329_0ef4_11eb_820b_bfabf5055f76row0_col1\" class=\"data row0 col1\" >AkGovBillWalker</td>\n",
       "            </tr>\n",
       "            <tr>\n",
       "                                <td id=\"T_b3b84329_0ef4_11eb_820b_bfabf5055f76row1_col0\" class=\"data row1 col0\" >25</td>\n",
       "                        <td id=\"T_b3b84329_0ef4_11eb_820b_bfabf5055f76row1_col1\" class=\"data row1 col1\" >RepBarragan</td>\n",
       "            </tr>\n",
       "            <tr>\n",
       "                                <td id=\"T_b3b84329_0ef4_11eb_820b_bfabf5055f76row2_col0\" class=\"data row2 col0\" >50</td>\n",
       "                        <td id=\"T_b3b84329_0ef4_11eb_820b_bfabf5055f76row2_col1\" class=\"data row2 col1\" >RepLouBarletta</td>\n",
       "            </tr>\n",
       "            <tr>\n",
       "                                <td id=\"T_b3b84329_0ef4_11eb_820b_bfabf5055f76row3_col0\" class=\"data row3 col0\" >75</td>\n",
       "                        <td id=\"T_b3b84329_0ef4_11eb_820b_bfabf5055f76row3_col1\" class=\"data row3 col1\" >SenCapito</td>\n",
       "            </tr>\n",
       "            <tr>\n",
       "                                <td id=\"T_b3b84329_0ef4_11eb_820b_bfabf5055f76row4_col0\" class=\"data row4 col0\" >100</td>\n",
       "                        <td id=\"T_b3b84329_0ef4_11eb_820b_bfabf5055f76row4_col1\" class=\"data row4 col1\" >virginiafoxx</td>\n",
       "            </tr>\n",
       "    </tbody></table>"
      ],
      "text/plain": [
       "<pandas.io.formats.style.Styler at 0x7f7c30ff1f10>"
      ]
     },
     "metadata": {},
     "output_type": "display_data"
    },
    {
     "name": "stdout",
     "output_type": "stream",
     "text": [
      "==================================================\n",
      "Descriptive statistics for user.total_tweets\n",
      "==================================================\n"
     ]
    },
    {
     "data": {
      "text/html": [
       "<div>\n",
       "<style scoped>\n",
       "    .dataframe tbody tr th:only-of-type {\n",
       "        vertical-align: middle;\n",
       "    }\n",
       "\n",
       "    .dataframe tbody tr th {\n",
       "        vertical-align: top;\n",
       "    }\n",
       "\n",
       "    .dataframe thead th {\n",
       "        text-align: right;\n",
       "    }\n",
       "</style>\n",
       "<table border=\"1\" class=\"dataframe\">\n",
       "  <thead>\n",
       "    <tr style=\"text-align: right;\">\n",
       "      <th></th>\n",
       "      <th>value</th>\n",
       "    </tr>\n",
       "    <tr>\n",
       "      <th>statistic</th>\n",
       "      <th></th>\n",
       "    </tr>\n",
       "  </thead>\n",
       "  <tbody>\n",
       "    <tr>\n",
       "      <th>Count</th>\n",
       "      <td>548.00</td>\n",
       "    </tr>\n",
       "    <tr>\n",
       "      <th>Mean</th>\n",
       "      <td>3658.96</td>\n",
       "    </tr>\n",
       "    <tr>\n",
       "      <th>Standard deviation</th>\n",
       "      <td>4255.39</td>\n",
       "    </tr>\n",
       "    <tr>\n",
       "      <th>Median</th>\n",
       "      <td>2686.00</td>\n",
       "    </tr>\n",
       "    <tr>\n",
       "      <th>Mode</th>\n",
       "      <td>3583.00</td>\n",
       "    </tr>\n",
       "    <tr>\n",
       "      <th>Min</th>\n",
       "      <td>0.00</td>\n",
       "    </tr>\n",
       "    <tr>\n",
       "      <th>Max</th>\n",
       "      <td>59535.00</td>\n",
       "    </tr>\n",
       "  </tbody>\n",
       "</table>\n",
       "</div>"
      ],
      "text/plain": [
       "                      value\n",
       "statistic                  \n",
       "Count                548.00\n",
       "Mean                3658.96\n",
       "Standard deviation  4255.39\n",
       "Median              2686.00\n",
       "Mode                3583.00\n",
       "Min                    0.00\n",
       "Max                59535.00"
      ]
     },
     "metadata": {},
     "output_type": "display_data"
    },
    {
     "data": {
      "text/html": [
       "<style  type=\"text/css\" >\n",
       "</style><table id=\"T_b3b8432a_0ef4_11eb_820b_bfabf5055f76\" ><thead>    <tr>        <th class=\"col_heading level0 col0\" >percentile</th>        <th class=\"col_heading level0 col1\" >last_val</th>    </tr></thead><tbody>\n",
       "                <tr>\n",
       "                                <td id=\"T_b3b8432a_0ef4_11eb_820b_bfabf5055f76row0_col0\" class=\"data row0 col0\" >0</td>\n",
       "                        <td id=\"T_b3b8432a_0ef4_11eb_820b_bfabf5055f76row0_col1\" class=\"data row0 col1\" >0</td>\n",
       "            </tr>\n",
       "            <tr>\n",
       "                                <td id=\"T_b3b8432a_0ef4_11eb_820b_bfabf5055f76row1_col0\" class=\"data row1 col0\" >25</td>\n",
       "                        <td id=\"T_b3b8432a_0ef4_11eb_820b_bfabf5055f76row1_col1\" class=\"data row1 col1\" >1380</td>\n",
       "            </tr>\n",
       "            <tr>\n",
       "                                <td id=\"T_b3b8432a_0ef4_11eb_820b_bfabf5055f76row2_col0\" class=\"data row2 col0\" >50</td>\n",
       "                        <td id=\"T_b3b8432a_0ef4_11eb_820b_bfabf5055f76row2_col1\" class=\"data row2 col1\" >2682</td>\n",
       "            </tr>\n",
       "            <tr>\n",
       "                                <td id=\"T_b3b8432a_0ef4_11eb_820b_bfabf5055f76row3_col0\" class=\"data row3 col0\" >75</td>\n",
       "                        <td id=\"T_b3b8432a_0ef4_11eb_820b_bfabf5055f76row3_col1\" class=\"data row3 col1\" >4508</td>\n",
       "            </tr>\n",
       "            <tr>\n",
       "                                <td id=\"T_b3b8432a_0ef4_11eb_820b_bfabf5055f76row4_col0\" class=\"data row4 col0\" >100</td>\n",
       "                        <td id=\"T_b3b8432a_0ef4_11eb_820b_bfabf5055f76row4_col1\" class=\"data row4 col1\" >59535</td>\n",
       "            </tr>\n",
       "    </tbody></table>"
      ],
      "text/plain": [
       "<pandas.io.formats.style.Styler at 0x7f7c26afa7c0>"
      ]
     },
     "metadata": {},
     "output_type": "display_data"
    },
    {
     "name": "stdout",
     "output_type": "stream",
     "text": [
      "CPU times: user 525 ms, sys: 307 µs, total: 526 ms\n",
      "Wall time: 518 ms\n"
     ]
    }
   ],
   "source": [
    "%%time\n",
    "for col in user.columns:\n",
    "    print('='*50)\n",
    "    print(f'Descriptive statistics for user.{col}')\n",
    "    print('='*50)\n",
    "    display(descriptive('user',col))\n",
    "    display(get_iqrs('user',col).style.hide_index())"
   ]
  },
  {
   "cell_type": "markdown",
   "metadata": {},
   "source": [
    "### Analyzing hashtags"
   ]
  },
  {
   "cell_type": "markdown",
   "metadata": {},
   "source": [
    "The best way to count these will be through the `tweet_hashtag` table as the `hashtag` table itself contains only the unique hashtags."
   ]
  },
  {
   "cell_type": "code",
   "execution_count": 19,
   "metadata": {},
   "outputs": [],
   "source": [
    "def top_n(table, column, n=10):\n",
    "    query = f'''\n",
    "    SELECT {column},\n",
    "    COUNT(*) AS frequency\n",
    "    FROM {table}\n",
    "    GROUP BY {column}\n",
    "    ORDER BY COUNT(*) DESC\n",
    "    LIMIT {n};\n",
    "    '''\n",
    "    return sql(query)"
   ]
  },
  {
   "cell_type": "code",
   "execution_count": 20,
   "metadata": {
    "collapsed": true
   },
   "outputs": [],
   "source": [
    "def timing(table, column, text):\n",
    "    query = f'''\n",
    "    SELECT COUNT(*) AS frequency,\n",
    "           SUBSTR(\n",
    "               DATE(t.created_at,'start of month'),\n",
    "               1,7) AS month\n",
    "    FROM {table}\n",
    "    INNER JOIN tweet AS t\n",
    "        ON t.id = {table}.tweet_id\n",
    "    WHERE {column} = \"{text}\"\n",
    "    GROUP BY month\n",
    "    ORDER BY month\n",
    "    '''\n",
    "    return sql(query)"
   ]
  },
  {
   "cell_type": "markdown",
   "metadata": {},
   "source": [
    "Test this with some of the more popular hashtags"
   ]
  },
  {
   "cell_type": "code",
   "execution_count": 21,
   "metadata": {},
   "outputs": [
    {
     "name": "stdout",
     "output_type": "stream",
     "text": [
      "CPU times: user 10.2 s, sys: 531 ms, total: 10.7 s\n",
      "Wall time: 10.7 s\n"
     ]
    }
   ],
   "source": [
    "%%time\n",
    "hashtag_graph = timing('tweet_hashtag','hashtag','SCOTUS')"
   ]
  },
  {
   "cell_type": "code",
   "execution_count": 22,
   "metadata": {},
   "outputs": [
    {
     "data": {
      "text/plain": [
       "[<matplotlib.lines.Line2D at 0x7f3d55d0b3a0>]"
      ]
     },
     "execution_count": 22,
     "metadata": {},
     "output_type": "execute_result"
    },
    {
     "data": {
      "image/png": "[encoded data removed]",
      "text/plain": [
       "<Figure size 1440x720 with 1 Axes>"
      ]
     },
     "metadata": {},
     "output_type": "display_data"
    }
   ],
   "source": [
    "plt.figure(num=1,figsize=(20,10))\n",
    "plt.plot(hashtag_graph.month, hashtag_graph.frequency)"
   ]
  },
  {
   "cell_type": "code",
   "execution_count": 23,
   "metadata": {},
   "outputs": [
    {
     "name": "stdout",
     "output_type": "stream",
     "text": [
      "Rank|Hashtag|Frequency\n",
      "----|-------|---------\n",
      "1|Obamacare|11086\n",
      "2|tcot|7951\n",
      "3|ACA|6143\n",
      "4|SOTU|5939\n",
      "5|SCOTUS|4889\n",
      "6|utpol|4758\n",
      "7|mepolitics|4564\n",
      "8|jobs|4037\n",
      "9|veterans|3671\n",
      "10|4jobs|3339\n",
      "11|IRS|3230\n",
      "12|GOP|3226\n",
      "13|Trumpcare|2741\n",
      "14|Zika|2599\n",
      "15|immigration|2586\n",
      "16|ObamaCare|2579\n",
      "17|Iran|2482\n",
      "18|DoYourJob|2445\n",
      "19|IranDeal|2432\n",
      "20|smallbiz|2396\n"
     ]
    }
   ],
   "source": [
    "n=20\n",
    "topn=top_n(\"tweet_hashtag\",\"hashtag\",n=n)\n",
    "print('Rank', 'Hashtag', 'Frequency',sep='|')\n",
    "print('----', '-------', '---------',sep='|')\n",
    "for i in range(n):\n",
    "    print(i+1, topn['hashtag'].iloc[i], topn['frequency'].iloc[i], sep='|')"
   ]
  },
  {
   "cell_type": "markdown",
   "metadata": {},
   "source": [
    "Rank|Hashtag|Frequency\n",
    "----|-------|---------\n",
    "1|Obamacare|11086\n",
    "2|tcot|7951\n",
    "3|ACA|6143\n",
    "4|SOTU|5939\n",
    "5|SCOTUS|4889\n",
    "6|utpol|4758\n",
    "7|mepolitics|4564\n",
    "8|jobs|4037\n",
    "9|veterans|3671\n",
    "10|4jobs|3339\n",
    "11|IRS|3230\n",
    "12|GOP|3226\n",
    "13|Trumpcare|2741\n",
    "14|Zika|2599\n",
    "15|immigration|2586\n",
    "16|ObamaCare|2579\n",
    "17|Iran|2482\n",
    "18|DoYourJob|2445\n",
    "19|IranDeal|2432\n",
    "20|smallbiz|2396\n",
    "\n",
    "The most common hashtag is Obamacare/ACA.  tcot is an old hashtag which is not much used.\n",
    "\n",
    "How do hashtags change over time ie.e can we graph month/year against usage?"
   ]
  },
  {
   "cell_type": "code",
   "execution_count": 24,
   "metadata": {},
   "outputs": [
    {
     "data": {
      "text/plain": [
       "<BarContainer object of 20 artists>"
      ]
     },
     "execution_count": 24,
     "metadata": {},
     "output_type": "execute_result"
    },
    {
     "data": {
      "image/png": "[encoded data removed]",
      "text/plain": [
       "<Figure size 864x432 with 1 Axes>"
      ]
     },
     "metadata": {},
     "output_type": "display_data"
    }
   ],
   "source": [
    "plt.figure(figsize=(12,6))\n",
    "plt.title('Most common hashtags')\n",
    "plt.xticks([])\n",
    "topn.sort_values(by='frequency', inplace=True)\n",
    "plt.barh(topn['hashtag'], topn['frequency'])"
   ]
  },
  {
   "cell_type": "markdown",
   "metadata": {},
   "source": [
    "### Hashtags for highly retweeted items"
   ]
  },
  {
   "cell_type": "code",
   "execution_count": 25,
   "metadata": {},
   "outputs": [],
   "source": [
    "def popular_hashtags(min_retweets = 1000,\n",
    "                     start_date = '2008-08-04', #By default the whole dataset\n",
    "                     end_date = '2017-06-06'):\n",
    "    query = f'''\n",
    "-- Retrieve just the most popular tweets\n",
    "WITH pop AS\n",
    "   (SELECT  t.retweet_count,\n",
    "            t.id\n",
    "    FROM\n",
    "        tweet AS t\n",
    "    WHERE\n",
    "        t.retweet_count >= {min_retweets}\n",
    "        AND\n",
    "        t.created_at <= \"{end_date}\"\n",
    "        AND\n",
    "        t.created_at >= \"{start_date}\"\n",
    "    )\n",
    "SELECT h.hashtag,\n",
    "        SUM(1) AS hashtag_uses\n",
    "FROM\n",
    "    pop\n",
    "INNER JOIN\n",
    "    tweet_hashtag AS h\n",
    "ON\n",
    "    pop.id = h.tweet_id\n",
    "GROUP BY h.hashtag\n",
    "ORDER BY SUM(1) DESC\n",
    "'''\n",
    "    return sql(query)"
   ]
  },
  {
   "cell_type": "code",
   "execution_count": 26,
   "metadata": {},
   "outputs": [
    {
     "name": "stdout",
     "output_type": "stream",
     "text": [
      "CPU times: user 9.84 s, sys: 460 ms, total: 10.3 s\n",
      "Wall time: 10.3 s\n"
     ]
    }
   ],
   "source": [
    "%%time\n",
    "topn = popular_hashtags(10000).head(20)"
   ]
  },
  {
   "cell_type": "code",
   "execution_count": 27,
   "metadata": {},
   "outputs": [
    {
     "data": {
      "text/plain": [
       "<BarContainer object of 20 artists>"
      ]
     },
     "execution_count": 27,
     "metadata": {},
     "output_type": "execute_result"
    },
    {
     "data": {
      "image/png": "[encoded data removed]",
      "text/plain": [
       "<Figure size 720x504 with 1 Axes>"
      ]
     },
     "metadata": {},
     "output_type": "display_data"
    }
   ],
   "source": [
    "plt.figure(figsize=(10,7))\n",
    "plt.title('Highly retweeted hashtags')\n",
    "plt.xticks([])\n",
    "plt.ylabel('Hashtag')\n",
    "topn.sort_values(by='hashtag_uses', inplace=True)\n",
    "plt.barh(topn['hashtag'], topn['hashtag_uses'])"
   ]
  },
  {
   "cell_type": "markdown",
   "metadata": {},
   "source": [
    "### Linking `mention` to the `user` table"
   ]
  },
  {
   "cell_type": "code",
   "execution_count": 28,
   "metadata": {},
   "outputs": [],
   "source": [
    "def most_followed(n = 10,\n",
    "                  start_date = '2008-08-04', #By default the whole dataset\n",
    "                  end_date = '2017-06-06'):\n",
    "    query = f'''\n",
    "    SELECT  h.hashtag,\n",
    "            SUM(1) AS frequency\n",
    "    FROM(\n",
    "        SELECT screen_name\n",
    "        FROM user\n",
    "        ORDER BY followers_count DESC\n",
    "        LIMIT {n}) AS topn\n",
    "    INNER JOIN\n",
    "        tweet t\n",
    "    ON\n",
    "        t.screen_name = topn.screen_name\n",
    "    INNER JOIN\n",
    "        tweet_hashtag h\n",
    "    ON\n",
    "        h.tweet_id = t.id\n",
    "    WHERE\n",
    "        t.created_at >= '{start_date}'\n",
    "        AND\n",
    "        t.created_at <= '{end_date}'\n",
    "    GROUP BY\n",
    "        h.hashtag\n",
    "    ORDER BY\n",
    "        frequency DESC\n",
    "    LIMIT 20;\n",
    "        '''\n",
    "    return sql(query)"
   ]
  },
  {
   "cell_type": "code",
   "execution_count": 29,
   "metadata": {},
   "outputs": [
    {
     "name": "stdout",
     "output_type": "stream",
     "text": [
      "CPU times: user 12.2 s, sys: 1.32 s, total: 13.5 s\n",
      "Wall time: 13.5 s\n"
     ]
    }
   ],
   "source": [
    "%%time\n",
    "followed_tags = most_followed(user.shape[0]//10, start_date='2016-01-01') #Most followed tweeters, top 10%"
   ]
  },
  {
   "cell_type": "code",
   "execution_count": 30,
   "metadata": {},
   "outputs": [
    {
     "data": {
      "text/plain": [
       "<BarContainer object of 20 artists>"
      ]
     },
     "execution_count": 30,
     "metadata": {},
     "output_type": "execute_result"
    },
    {
     "data": {
      "image/png": "[encoded data removed]",
      "text/plain": [
       "<Figure size 720x504 with 1 Axes>"
      ]
     },
     "metadata": {},
     "output_type": "display_data"
    }
   ],
   "source": [
    "plt.figure(figsize=(10,7))\n",
    "plt.title('Popular tweeters\\' hashtags')\n",
    "plt.xticks([])\n",
    "plt.ylabel('Hashtag')\n",
    "followed_tags.sort_values(by='frequency', inplace=True)\n",
    "plt.barh(followed_tags['hashtag'], followed_tags['frequency'])"
   ]
  },
  {
   "cell_type": "markdown",
   "metadata": {},
   "source": [
    "### Summary stats for `mention`"
   ]
  },
  {
   "cell_type": "markdown",
   "metadata": {},
   "source": [
    "For the same reason as above we'll using `tweet_mention`."
   ]
  },
  {
   "cell_type": "code",
   "execution_count": 31,
   "metadata": {},
   "outputs": [
    {
     "data": {
      "text/html": [
       "<div>\n",
       "<style scoped>\n",
       "    .dataframe tbody tr th:only-of-type {\n",
       "        vertical-align: middle;\n",
       "    }\n",
       "\n",
       "    .dataframe tbody tr th {\n",
       "        vertical-align: top;\n",
       "    }\n",
       "\n",
       "    .dataframe thead th {\n",
       "        text-align: right;\n",
       "    }\n",
       "</style>\n",
       "<table border=\"1\" class=\"dataframe\">\n",
       "  <thead>\n",
       "    <tr style=\"text-align: right;\">\n",
       "      <th></th>\n",
       "      <th>mention</th>\n",
       "      <th>frequency</th>\n",
       "    </tr>\n",
       "  </thead>\n",
       "  <tbody>\n",
       "    <tr>\n",
       "      <th>0</th>\n",
       "      <td>POTUS</td>\n",
       "      <td>14144</td>\n",
       "    </tr>\n",
       "    <tr>\n",
       "      <th>1</th>\n",
       "      <td>HouseGOP</td>\n",
       "      <td>10949</td>\n",
       "    </tr>\n",
       "    <tr>\n",
       "      <th>2</th>\n",
       "      <td>realDonaldTrump</td>\n",
       "      <td>6920</td>\n",
       "    </tr>\n",
       "    <tr>\n",
       "      <th>3</th>\n",
       "      <td>SpeakerRyan</td>\n",
       "      <td>5583</td>\n",
       "    </tr>\n",
       "    <tr>\n",
       "      <th>4</th>\n",
       "      <td>SpeakerBoehner</td>\n",
       "      <td>4423</td>\n",
       "    </tr>\n",
       "    <tr>\n",
       "      <th>5</th>\n",
       "      <td>WhiteHouse</td>\n",
       "      <td>4400</td>\n",
       "    </tr>\n",
       "    <tr>\n",
       "      <th>6</th>\n",
       "      <td>HouseDemocrats</td>\n",
       "      <td>4037</td>\n",
       "    </tr>\n",
       "    <tr>\n",
       "      <th>7</th>\n",
       "      <td>FoxNews</td>\n",
       "      <td>3713</td>\n",
       "    </tr>\n",
       "    <tr>\n",
       "      <th>8</th>\n",
       "      <td>HouseCommerce</td>\n",
       "      <td>3691</td>\n",
       "    </tr>\n",
       "    <tr>\n",
       "      <th>9</th>\n",
       "      <td>GOPoversight</td>\n",
       "      <td>3013</td>\n",
       "    </tr>\n",
       "  </tbody>\n",
       "</table>\n",
       "</div>"
      ],
      "text/plain": [
       "           mention  frequency\n",
       "0            POTUS      14144\n",
       "1         HouseGOP      10949\n",
       "2  realDonaldTrump       6920\n",
       "3      SpeakerRyan       5583\n",
       "4   SpeakerBoehner       4423\n",
       "5       WhiteHouse       4400\n",
       "6   HouseDemocrats       4037\n",
       "7          FoxNews       3713\n",
       "8    HouseCommerce       3691\n",
       "9     GOPoversight       3013"
      ]
     },
     "execution_count": 31,
     "metadata": {},
     "output_type": "execute_result"
    }
   ],
   "source": [
    "top_n('tweet_mention','mention')"
   ]
  }
 ],
 "metadata": {
  "hide_input": false,
  "kernelspec": {
   "display_name": "Python 3",
   "language": "python",
   "name": "python3"
  },
  "language_info": {
   "codemirror_mode": {
    "name": "ipython",
    "version": 3
   },
   "file_extension": ".py",
   "mimetype": "text/x-python",
   "name": "python",
   "nbconvert_exporter": "python",
   "pygments_lexer": "ipython3",
   "version": "3.8.6"
  },
  "toc": {
   "base_numbering": 1,
   "nav_menu": {},
   "number_sections": true,
   "sideBar": true,
   "skip_h1_title": true,
   "title_cell": "Table of Contents",
   "title_sidebar": "Contents",
   "toc_cell": true,
   "toc_position": {},
   "toc_section_display": true,
   "toc_window_display": false
  },
  "varInspector": {
   "cols": {
    "lenName": 16,
    "lenType": 16,
    "lenVar": 40
   },
   "kernels_config": {
    "python": {
     "delete_cmd_postfix": "",
     "delete_cmd_prefix": "del ",
     "library": "var_list.py",
     "varRefreshCmd": "print(var_dic_list())"
    },
    "r": {
     "delete_cmd_postfix": ") ",
     "delete_cmd_prefix": "rm(",
     "library": "var_list.r",
     "varRefreshCmd": "cat(var_dic_list()) "
    }
   },
   "types_to_exclude": [
    "module",
    "function",
    "builtin_function_or_method",
    "instance",
    "_Feature"
   ],
   "window_display": false
  }
 },
 "nbformat": 4,
 "nbformat_minor": 4
}
