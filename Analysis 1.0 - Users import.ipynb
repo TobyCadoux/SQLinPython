{
 "cells": [
  {
   "cell_type": "markdown",
   "metadata": {
    "toc": true
   },
   "source": [
    "<h1>Table of Contents<span class=\"tocSkip\"></span></h1>\n",
    "<div class=\"toc\"><ul class=\"toc-item\"><li><span><a href=\"#Import\" data-toc-modified-id=\"Import-1\"><span class=\"toc-item-num\">1&nbsp;&nbsp;</span>Import</a></span></li><li><span><a href=\"#Feature-selection\" data-toc-modified-id=\"Feature-selection-2\"><span class=\"toc-item-num\">2&nbsp;&nbsp;</span>Feature selection</a></span></li><li><span><a href=\"#Tidy-up-messy-dates\" data-toc-modified-id=\"Tidy-up-messy-dates-3\"><span class=\"toc-item-num\">3&nbsp;&nbsp;</span>Tidy up messy dates</a></span></li><li><span><a href=\"#Export-to-table\" data-toc-modified-id=\"Export-to-table-4\"><span class=\"toc-item-num\">4&nbsp;&nbsp;</span>Export to table</a></span></li></ul></div>"
   ]
  },
  {
   "cell_type": "markdown",
   "metadata": {},
   "source": [
    "# User data import"
   ]
  },
  {
   "cell_type": "code",
   "execution_count": 1,
   "metadata": {},
   "outputs": [],
   "source": [
    "import numpy as np\n",
    "import pandas as pd\n",
    "import datetime as dt\n",
    "pd.set_option('max_colwidth', None)"
   ]
  },
  {
   "cell_type": "markdown",
   "metadata": {},
   "source": [
    "## Import"
   ]
  },
  {
   "cell_type": "code",
   "execution_count": 2,
   "metadata": {},
   "outputs": [],
   "source": [
    "user_path = 'data/users.json'\n",
    "types = {'created_at':np.int64} #pandas infers this as a datetime(ns)\n",
    "df = pd.read_json(user_path, dtype=types, lines=True)"
   ]
  },
  {
   "cell_type": "markdown",
   "metadata": {},
   "source": [
    "## Feature selection"
   ]
  },
  {
   "cell_type": "code",
   "execution_count": 3,
   "metadata": {},
   "outputs": [
    {
     "name": "stdout",
     "output_type": "stream",
     "text": [
      "<class 'pandas.core.frame.DataFrame'>\n",
      "RangeIndex: 548 entries, 0 to 547\n",
      "Data columns (total 20 columns):\n",
      " #   Column                   Non-Null Count  Dtype \n",
      "---  ------                   --------------  ----- \n",
      " 0   created_at               548 non-null    int64 \n",
      " 1   default_profile          548 non-null    bool  \n",
      " 2   default_profile_image    548 non-null    bool  \n",
      " 3   description              548 non-null    object\n",
      " 4   entities                 545 non-null    object\n",
      " 5   favourites_count         548 non-null    int64 \n",
      " 6   followers_count          548 non-null    int64 \n",
      " 7   friends_count            548 non-null    int64 \n",
      " 8   id                       548 non-null    int64 \n",
      " 9   id_str                   548 non-null    int64 \n",
      " 10  listed_count             548 non-null    int64 \n",
      " 11  location                 548 non-null    object\n",
      " 12  name                     548 non-null    object\n",
      " 13  profile_banner_url       513 non-null    object\n",
      " 14  profile_image_url_https  548 non-null    object\n",
      " 15  protected                548 non-null    bool  \n",
      " 16  screen_name              548 non-null    object\n",
      " 17  statuses_count           548 non-null    int64 \n",
      " 18  url                      513 non-null    object\n",
      " 19  verified                 548 non-null    bool  \n",
      "dtypes: bool(4), int64(8), object(8)\n",
      "memory usage: 70.8+ KB\n"
     ]
    }
   ],
   "source": [
    "# Some keys are deprecated by Twitter - let's ignore them\n",
    "deprecated = {'utc_offset', 'time_zone', 'lang', 'geo_enabled', 'following',\n",
    "              'follow_request_sent', 'has_extended_profile', 'notifications',\n",
    "              'profile_location', 'contributors_enabled', 'profile_image_url',\n",
    "              'profile_background_color', 'profile_background_image_url',\n",
    "              'profile_background_image_url_https', 'profile_background_tile',\n",
    "              'profile_link_color', 'profile_sidebar_border_color',\n",
    "              'profile_sidebar_fill_color', 'profile_text_color',\n",
    "              'profile_use_background_image', 'is_translator',\n",
    "              'is_translation_enabled', 'translator_type'}\n",
    "columns = [x for x in df.columns if x not in deprecated]\n",
    "df = df[columns]\n",
    "df.info()"
   ]
  },
  {
   "cell_type": "markdown",
   "metadata": {},
   "source": [
    "See [here](https://developer.twitter.com/en/docs/twitter-api/v1/data-dictionary/overview/user-object) for meanings"
   ]
  },
  {
   "cell_type": "markdown",
   "metadata": {},
   "source": [
    "* The `default_profile` and `default_profile_image` fields might have been useful in deciding whether users are 'serious' twitterati or not.  However some well-known twitterers have default profile as `True` and `default_profile_image` is almost all `False` so I have decided to drop them.\n",
    "* `entities` seems to contain url's for politicians.  Useful, but not for this work.\n",
    "* `created_at` looks mostly like a seconds offset from Unix zero-time but which has been interpreted as a nanosecond offset.  I'll convert this in case I need it.\n",
    "* I am going to drop `favourites_count` and `listed_count` but keep `friends_count`, `followers_count` as measures of influence.\n",
    "* Keep `statuses_count` just in case.\n",
    "* Drop `location` as well as `id` and `id_str` as `screen_name` is unique."
   ]
  },
  {
   "cell_type": "code",
   "execution_count": 4,
   "metadata": {},
   "outputs": [],
   "source": [
    "droplist = ['default_profile', 'default_profile_image', 'entities',\n",
    "            'favourites_count', 'listed_count', 'location', 'id', 'id_str',\n",
    "            'profile_banner_url', 'profile_image_url_https', 'protected',\n",
    "            'url', 'verified']\n",
    "columns = [x for x in columns if x not in droplist]\n",
    "df = df[columns]"
   ]
  },
  {
   "cell_type": "code",
   "execution_count": 5,
   "metadata": {},
   "outputs": [],
   "source": [
    "#Rename one column to make it more meaningful\n",
    "import warnings\n",
    "warnings.filterwarnings(\"ignore\")\n",
    "df.rename(columns={'statuses_count':'total_tweets'}, inplace=True)\n",
    "warnings.filterwarnings(\"default\")"
   ]
  },
  {
   "cell_type": "markdown",
   "metadata": {},
   "source": [
    "## Tidy up messy dates"
   ]
  },
  {
   "cell_type": "code",
   "execution_count": 6,
   "metadata": {
    "scrolled": false
   },
   "outputs": [
    {
     "name": "stderr",
     "output_type": "stream",
     "text": [
      "/usr/lib/python3/dist-packages/ipykernel/ipkernel.py:287: DeprecationWarning: `should_run_async` will not call `transform_cell` automatically in the future. Please pass the result to `transformed_cell` argument and any exception that happen during thetransform in `preprocessing_exc_tuple` in IPython 7.17 and above.\n",
      "  and should_run_async(code)\n"
     ]
    }
   ],
   "source": [
    "# 3 created_at given as datetime (ns), the rest given as seconds offset\n",
    "# from Unix zero.  So convert the large ones to ns before casting to dates\n",
    "created_times = []\n",
    "for d in df['created_at']:\n",
    "    if d < 2000000000: #Assume all twitter accounts created before 2033 ;)\n",
    "        created_times.append(dt.timedelta(seconds = d) +\n",
    "                             dt.date(1970,1,1))\n",
    "    else:\n",
    "        created_times.append(dt.timedelta(seconds = d/10**9) +\n",
    "                             dt.date(1970,1,1))\n",
    "df['created_at'] = created_times"
   ]
  },
  {
   "cell_type": "markdown",
   "metadata": {},
   "source": [
    "## Export to table"
   ]
  },
  {
   "cell_type": "code",
   "execution_count": 7,
   "metadata": {},
   "outputs": [],
   "source": [
    "df.to_csv('output_data/user.csv', index=None)"
   ]
  }
 ],
 "metadata": {
  "hide_input": false,
  "kernelspec": {
   "display_name": "Python 3",
   "language": "python",
   "name": "python3"
  },
  "language_info": {
   "codemirror_mode": {
    "name": "ipython",
    "version": 3
   },
   "file_extension": ".py",
   "mimetype": "text/x-python",
   "name": "python",
   "nbconvert_exporter": "python",
   "pygments_lexer": "ipython3",
   "version": "3.8.6"
  },
  "toc": {
   "base_numbering": 1,
   "nav_menu": {},
   "number_sections": true,
   "sideBar": true,
   "skip_h1_title": true,
   "title_cell": "Table of Contents",
   "title_sidebar": "Contents",
   "toc_cell": true,
   "toc_position": {},
   "toc_section_display": true,
   "toc_window_display": false
  },
  "varInspector": {
   "cols": {
    "lenName": 16,
    "lenType": 16,
    "lenVar": 40
   },
   "kernels_config": {
    "python": {
     "delete_cmd_postfix": "",
     "delete_cmd_prefix": "del ",
     "library": "var_list.py",
     "varRefreshCmd": "print(var_dic_list())"
    },
    "r": {
     "delete_cmd_postfix": ") ",
     "delete_cmd_prefix": "rm(",
     "library": "var_list.r",
     "varRefreshCmd": "cat(var_dic_list()) "
    }
   },
   "types_to_exclude": [
    "module",
    "function",
    "builtin_function_or_method",
    "instance",
    "_Feature"
   ],
   "window_display": false
  }
 },
 "nbformat": 4,
 "nbformat_minor": 4
}
